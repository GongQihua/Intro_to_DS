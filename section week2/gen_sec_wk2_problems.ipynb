{
 "cells": [
  {
   "cell_type": "markdown",
   "id": "6dbcb1a3",
   "metadata": {},
   "source": [
    "# 1 Descriptive Statistics"
   ]
  },
  {
   "cell_type": "markdown",
   "id": "f9586d32",
   "metadata": {},
   "source": [
    "## 1.0\n",
    "\n",
    "We load data on monthly stock returns from 1926 to 2021 ([source](https://mba.tuck.dartmouth.edu/pages/faculty/ken.french/data_library.html)) and store it in an $\\texttt{ndarray}$ for you."
   ]
  },
  {
   "cell_type": "code",
   "execution_count": 1,
   "id": "116d7bfe",
   "metadata": {},
   "outputs": [
    {
     "data": {
      "text/html": [
       "<div>\n",
       "<style scoped>\n",
       "    .dataframe tbody tr th:only-of-type {\n",
       "        vertical-align: middle;\n",
       "    }\n",
       "\n",
       "    .dataframe tbody tr th {\n",
       "        vertical-align: top;\n",
       "    }\n",
       "\n",
       "    .dataframe thead th {\n",
       "        text-align: right;\n",
       "    }\n",
       "</style>\n",
       "<table border=\"1\" class=\"dataframe\">\n",
       "  <thead>\n",
       "    <tr style=\"text-align: right;\">\n",
       "      <th></th>\n",
       "      <th>Month</th>\n",
       "      <th>Mkt-RF</th>\n",
       "      <th>SMB</th>\n",
       "      <th>HML</th>\n",
       "      <th>RF</th>\n",
       "    </tr>\n",
       "  </thead>\n",
       "  <tbody>\n",
       "    <tr>\n",
       "      <th>0</th>\n",
       "      <td>192607</td>\n",
       "      <td>2.96</td>\n",
       "      <td>-2.56</td>\n",
       "      <td>-2.43</td>\n",
       "      <td>0.22</td>\n",
       "    </tr>\n",
       "    <tr>\n",
       "      <th>1</th>\n",
       "      <td>192608</td>\n",
       "      <td>2.64</td>\n",
       "      <td>-1.17</td>\n",
       "      <td>3.82</td>\n",
       "      <td>0.25</td>\n",
       "    </tr>\n",
       "    <tr>\n",
       "      <th>2</th>\n",
       "      <td>192609</td>\n",
       "      <td>0.36</td>\n",
       "      <td>-1.40</td>\n",
       "      <td>0.13</td>\n",
       "      <td>0.23</td>\n",
       "    </tr>\n",
       "    <tr>\n",
       "      <th>3</th>\n",
       "      <td>192610</td>\n",
       "      <td>-3.24</td>\n",
       "      <td>-0.09</td>\n",
       "      <td>0.70</td>\n",
       "      <td>0.32</td>\n",
       "    </tr>\n",
       "    <tr>\n",
       "      <th>4</th>\n",
       "      <td>192611</td>\n",
       "      <td>2.53</td>\n",
       "      <td>-0.10</td>\n",
       "      <td>-0.51</td>\n",
       "      <td>0.31</td>\n",
       "    </tr>\n",
       "    <tr>\n",
       "      <th>...</th>\n",
       "      <td>...</td>\n",
       "      <td>...</td>\n",
       "      <td>...</td>\n",
       "      <td>...</td>\n",
       "      <td>...</td>\n",
       "    </tr>\n",
       "    <tr>\n",
       "      <th>1135</th>\n",
       "      <td>202102</td>\n",
       "      <td>2.78</td>\n",
       "      <td>2.06</td>\n",
       "      <td>7.18</td>\n",
       "      <td>0.00</td>\n",
       "    </tr>\n",
       "    <tr>\n",
       "      <th>1136</th>\n",
       "      <td>202103</td>\n",
       "      <td>3.08</td>\n",
       "      <td>-2.37</td>\n",
       "      <td>7.40</td>\n",
       "      <td>0.00</td>\n",
       "    </tr>\n",
       "    <tr>\n",
       "      <th>1137</th>\n",
       "      <td>202104</td>\n",
       "      <td>4.93</td>\n",
       "      <td>-3.19</td>\n",
       "      <td>-0.94</td>\n",
       "      <td>0.00</td>\n",
       "    </tr>\n",
       "    <tr>\n",
       "      <th>1138</th>\n",
       "      <td>202105</td>\n",
       "      <td>0.29</td>\n",
       "      <td>-0.25</td>\n",
       "      <td>7.08</td>\n",
       "      <td>0.00</td>\n",
       "    </tr>\n",
       "    <tr>\n",
       "      <th>1139</th>\n",
       "      <td>202106</td>\n",
       "      <td>2.75</td>\n",
       "      <td>1.70</td>\n",
       "      <td>-7.82</td>\n",
       "      <td>0.00</td>\n",
       "    </tr>\n",
       "  </tbody>\n",
       "</table>\n",
       "<p>1140 rows × 5 columns</p>\n",
       "</div>"
      ],
      "text/plain": [
       "       Month  Mkt-RF   SMB   HML    RF\n",
       "0     192607    2.96 -2.56 -2.43  0.22\n",
       "1     192608    2.64 -1.17  3.82  0.25\n",
       "2     192609    0.36 -1.40  0.13  0.23\n",
       "3     192610   -3.24 -0.09  0.70  0.32\n",
       "4     192611    2.53 -0.10 -0.51  0.31\n",
       "...      ...     ...   ...   ...   ...\n",
       "1135  202102    2.78  2.06  7.18  0.00\n",
       "1136  202103    3.08 -2.37  7.40  0.00\n",
       "1137  202104    4.93 -3.19 -0.94  0.00\n",
       "1138  202105    0.29 -0.25  7.08  0.00\n",
       "1139  202106    2.75  1.70 -7.82  0.00\n",
       "\n",
       "[1140 rows x 5 columns]"
      ]
     },
     "metadata": {},
     "output_type": "display_data"
    },
    {
     "name": "stdout",
     "output_type": "stream",
     "text": [
      "[2.96 2.64 0.36 ... 4.93 0.29 2.75]\n",
      "<class 'numpy.ndarray'>\n"
     ]
    }
   ],
   "source": [
    "# Module for arrays.\n",
    "import numpy as np\n",
    "# Module for data frames.\n",
    "import pandas as pd\n",
    "\n",
    "# Load stock data as pandas DataFrame.\n",
    "stocks = pd.read_csv(\"stocks.csv\")\n",
    "# Display DataFrame.\n",
    "display(stocks)\n",
    "# Store stock return variable values in a NumPy array.\n",
    "ret = stocks[\"Mkt-RF\"].values\n",
    "# Print the \"ret\" variable.\n",
    "print(ret)\n",
    "# Print the type of the \"ret\" variable.\n",
    "print(type(ret))"
   ]
  },
  {
   "cell_type": "markdown",
   "id": "8b0ee402",
   "metadata": {},
   "source": [
    "## 1.1\n",
    "\n",
    "SciPy and NumPy have functions for computing sample\n",
    "\n",
    "- mean\n",
    "- variance\n",
    "- standard deviation\n",
    "- skewness\n",
    "- kurtosis\n",
    "- quantiles\n",
    "\n",
    "As an exercise, implement your own functions for these descriptive statistics. The functions should be designed to operate on a one-dimensional $\\texttt{ndarray}$. You may use other Scipy and Numpy functions in your implementations.  Apply your functions to the $\\texttt{ret}$ data to test them."
   ]
  },
  {
   "cell_type": "code",
   "execution_count": null,
   "id": "f31d9ecc",
   "metadata": {},
   "outputs": [],
   "source": []
  },
  {
   "cell_type": "markdown",
   "id": "c92c1737",
   "metadata": {},
   "source": [
    "## 1.2\n",
    "\n",
    "Apply the corresponding SciPy or NumPy functions. Do your functions give different results? If so, are your implementations incorrect, or can you adjust some parameters of the SciPy or NumPy functions to give the same results?"
   ]
  },
  {
   "cell_type": "code",
   "execution_count": null,
   "id": "2e7eedcf",
   "metadata": {},
   "outputs": [],
   "source": []
  },
  {
   "cell_type": "markdown",
   "id": "3da9eeb9",
   "metadata": {},
   "source": [
    "## 1.3\n",
    "\n",
    "The normal distribution is commonly used to model natural and social phenomena. Investigate whether the hypothesis that stock return is normally distributed is plausible as follows:\n",
    "\n",
    "- Simulate draws from a normal distribution having mean equal to the sample mean of the stock returns and standard deviation equal to the sample standard deviation of the stock returns. Use a random state of 0, and for the number of draws, use the number of stock return observations.\n",
    "- Compare histograms of the simulated data and the actual stock returns."
   ]
  },
  {
   "cell_type": "code",
   "execution_count": null,
   "id": "4e6e9087",
   "metadata": {
    "scrolled": false
   },
   "outputs": [],
   "source": []
  }
 ],
 "metadata": {
  "kernelspec": {
   "display_name": "Python 3 (ipykernel)",
   "language": "python",
   "name": "python3"
  },
  "language_info": {
   "codemirror_mode": {
    "name": "ipython",
    "version": 3
   },
   "file_extension": ".py",
   "mimetype": "text/x-python",
   "name": "python",
   "nbconvert_exporter": "python",
   "pygments_lexer": "ipython3",
   "version": "3.9.12"
  }
 },
 "nbformat": 4,
 "nbformat_minor": 5
}
