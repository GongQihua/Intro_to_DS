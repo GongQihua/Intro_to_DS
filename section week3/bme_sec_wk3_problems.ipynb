{
 "cells": [
  {
   "cell_type": "markdown",
   "id": "224c10b3",
   "metadata": {},
   "source": [
    "# Density Estimation\n"
   ]
  },
  {
   "cell_type": "markdown",
   "id": "f750ea2a",
   "metadata": {},
   "source": [
    "## 1.1 Reading the Data\n",
    "In the following section an Excel file containing mortality rate associated with the hypertensive heart disease in the United States across different age groups and sexes will be processed (Data was downloaded from WHO website). We will extract total mortality rate per year for male (1951 - 2019) and female (1951 - 2019) populations separately.   "
   ]
  },
  {
   "cell_type": "code",
   "execution_count": null,
   "id": "8facd93a",
   "metadata": {},
   "outputs": [],
   "source": [
    "import numpy as np\n",
    "import pandas as pd\n",
    "\n",
    "myData = np.array(pd.read_excel('Mortality_Hypertension_America.xlsx'))\n",
    "\n",
    "# Extraxt total mortality for male population into a two dimensional array. \n",
    "# column 0: year, colomn 1: gender ('Male', column 2: yearly mortality\n",
    "M = np.array([row[[1,2,5]] for row in myData if row[2] == 'Male' and row[3] == 'Age_all'])\n",
    "\n",
    "# Extraxt total mortality for female population into a two dimensional array. \n",
    "# column 0: year, colomn 1: gender ('Female', column 2: yearly mortality\n",
    "F = np.array([row[[1,2,5]] for row in myData if row[2] == 'Female' and row[3] == 'Age_all'])\n",
    "F = F[1:,:] # Make sure data starts from year 1951\n",
    "\n",
    "print(M.shape)\n",
    "print(F.shape)\n",
    "print(M)\n",
    "print(F)"
   ]
  },
  {
   "cell_type": "markdown",
   "id": "5a199ac8",
   "metadata": {},
   "source": [
    "## 1.2 Histograms\n",
    "\n",
    "We can use histograms to explore sample data distribution. A histogram divides the variable into bins, counts the data points in each bin, and shows the bins on the x-axis and the counts on the y-axis. The binwidth defines the shape of sample distribution. \n",
    "Generate two histograms using the male mortality data, one with 10 bins and another with 20 bins. Display binwidth for each case.\n"
   ]
  },
  {
   "cell_type": "code",
   "execution_count": null,
   "id": "14827002",
   "metadata": {},
   "outputs": [],
   "source": []
  },
  {
   "cell_type": "markdown",
   "id": "81cc03d1",
   "metadata": {},
   "source": [
    "## 1.3 Kernel Density Estimation\n",
    "\n",
    "In statistics **kernel density estimation (KDE)** is used to perform probability density estimation of random variables based on kernels as weights.\n",
    "\n",
    "Assuming $(x_{1}, x_{2} , \\dots, x_{n})$ are independant and identically distributed samples drawn from some univariate distribution with unkown density, we are interested in estimating the shape of this unkown density function $f$ using the following formula:\n",
    "\n",
    "$f_K(x) = \\frac{1}{n} \\sum_{i = 1}^{n} K(x - x_{i};h) = \\frac{1}{nh} \\sum_{i = 1}^{n} K(\\frac{x - x_{i}}{h})$\n",
    "\n",
    "Here $K$ is a kernel which is a non negative function and $h \\gt 0$ is a called bandwidth and works as smoothing parameter. The bandwidth controls the tradeoff between bias and variance in the density estimation. \n",
    "\n",
    "A few examples of the kernels are:\n",
    "\n",
    "- Gaussian: $K(x;h) \\propto e^{(-\\frac{x^{2}}{2h^{2}})}$\n",
    "- Tophat: $K(x;h) \\propto 1 \\text{ if } x \\lt h$\n",
    "- Epanechnikov: $K(x;h) \\propto 1 - \\frac{x^{2}}{h^{2}}$ with $|\\frac{x}{h}| \\le 1$\n",
    "\n",
    "Write your own code (DO NOT use available packages) to generate a Gaussian KDE based on the male mortality sample data. Generate 300 samples for kernel density estimation with uniform samples between 0 amd max value in your data + 10,000. Use different bandwidths. Show your results by superimposing the KDE result on the normalized histogram with 10 bins.\n",
    "\n",
    "Write your own code (DO NOT use available packages) to generate a Epanechnikov KDE based on the male mortality sample data. Generate 300 samples for kernel density estimation with uniform samples between 0 amd max value in your data + 10,000. Use different bandwidths. Show your results by superimposing the KDE result on the normalized histogram with 10 bins."
   ]
  },
  {
   "cell_type": "code",
   "execution_count": null,
   "id": "917f5953",
   "metadata": {},
   "outputs": [],
   "source": []
  },
  {
   "cell_type": "code",
   "execution_count": null,
   "id": "6d211b71",
   "metadata": {},
   "outputs": [],
   "source": []
  },
  {
   "cell_type": "markdown",
   "id": "3982b75f",
   "metadata": {},
   "source": [
    "## 1.4 Bivariate Kernel Density Estimation\n",
    "\n",
    "The concept of univariate KDE can be extended to multivariate data. In this example we gerenate bivariate KDE for a set of two dimensional random variables in Oxford, UK: \n",
    "\n",
    "- Monthly maximum temprature\n",
    "- Monthly sunshine duration\n",
    "\n"
   ]
  },
  {
   "cell_type": "code",
   "execution_count": null,
   "id": "59c0bdfc",
   "metadata": {},
   "outputs": [],
   "source": []
  },
  {
   "cell_type": "markdown",
   "id": "861f59a7",
   "metadata": {},
   "source": [
    "Write your own code to implement bi-variate product kernel estimator for estimating distribution of maximum temprature againt sun duraion variables for the month of June in Oxford, UK. Disply 3D bar histogram (standardized) od these variables. You can use 15 bins. Set the temprature range to 5 - 35 deg C and sun duration to 100 - 400 hours range. The product kernel estimator takes the following form:\n",
    "\n",
    "$\\hat{f}(x,y) = \\frac{1}{nh_{x}h_{y}} \\sum_{i=1}^{n} K(\\frac{x_{i} - x}{h_{x}})K(\\frac{y_{i} - y}{h_{y}})$\n",
    "\n",
    "where \n",
    "\n",
    "$K(t) = \\frac{1}{\\sqrt{2\\pi}}e^{-\\frac{t^{2}}{2}}$\n",
    "\n",
    "$h_{x}$ and $h_{y}$ are bandwidths and $n$ is the number samples in paired data ($x_{i},y_{i}$).\n",
    "\n",
    "Generate 100 uniform samples for temrature data in the range of 5 - 35 and another 100 uniform sample for the sun duration in the range of 100 - 400 hours. Calculate the bi-variate KDE based on the equation above and display the surface plot.\n"
   ]
  },
  {
   "cell_type": "code",
   "execution_count": null,
   "id": "d710b059",
   "metadata": {},
   "outputs": [],
   "source": []
  },
  {
   "cell_type": "code",
   "execution_count": null,
   "id": "55230f95",
   "metadata": {},
   "outputs": [],
   "source": []
  }
 ],
 "metadata": {
  "kernelspec": {
   "display_name": "Python 3.9.13 ('ids_week2')",
   "language": "python",
   "name": "python3"
  },
  "language_info": {
   "codemirror_mode": {
    "name": "ipython",
    "version": 3
   },
   "file_extension": ".py",
   "mimetype": "text/x-python",
   "name": "python",
   "nbconvert_exporter": "python",
   "pygments_lexer": "ipython3",
   "version": "3.9.13"
  },
  "vscode": {
   "interpreter": {
    "hash": "f80e87ea072fafb86f600380a90127d7b7efa71379512b26f0e932690c855bd4"
   }
  }
 },
 "nbformat": 4,
 "nbformat_minor": 5
}
