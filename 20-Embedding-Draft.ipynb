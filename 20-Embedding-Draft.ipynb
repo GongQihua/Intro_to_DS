{
 "cells": [
  {
   "cell_type": "markdown",
   "metadata": {
    "slideshow": {
     "slide_type": "slide"
    }
   },
   "source": [
    "<hr/>\n",
    "\n",
    "# Introduction to Data Science\n",
    "**Tamás Budavári** - budavari@jhu.edu <br/>\n",
    "\n",
    "- Laplacian eigenmaps\n",
    "- Exercises\n",
    "\n",
    "<hr/>"
   ]
  },
  {
   "cell_type": "markdown",
   "metadata": {},
   "source": [
    "<h1><font color=\"darkblue\">Spectral Methods</font></h1>\n",
    "\n",
    "\n",
    "- Spectral embedding\n",
    "\n",
    "> Construct the (latent) coordinates based on a given \"similarity\" graph or matrix\n",
    "> \n",
    "\n",
    "- Spectral clustering\n",
    "\n",
    "> Use these new coordinates as input to the usual methods <br>\n",
    "> E.g., simple thresholding, K-means clustering"
   ]
  },
  {
   "cell_type": "markdown",
   "metadata": {},
   "source": [
    "## Adjacency Matrix\n",
    "\n",
    "- Are two objects \"close\"? Are the vertices connected?\n",
    "\n",
    "> Encode it in an $(n\\!\\times\\!n)$ **matrix** $A$\n",
    "\n",
    "- The matrix elements\n",
    "\n",
    ">$ a_{ij} = \\left\\{ \\begin{array}{ll}\n",
    "         1 & \\mbox{if $i$ and $j$ are connected}\\\\\n",
    "         0 & \\mbox{otherwise}\\end{array} \\right.  $\n",
    "         \n",
    "- Symmetric matrix\n",
    "         "
   ]
  },
  {
   "cell_type": "markdown",
   "metadata": {},
   "source": [
    "## Graph Laplacian\n",
    "\n",
    "- Degree matrix $D$ is diagonal matrix formed from the sum of all edges\n",
    "\n",
    ">$\\displaystyle d_{ii} = \\sum_j^n a_{ij} $\n",
    "\n",
    "- The graph Laplacian\n",
    "\n",
    ">$ L = D - A$\n"
   ]
  },
  {
   "cell_type": "markdown",
   "metadata": {},
   "source": [
    "## Weighted Edges\n",
    "\n",
    "- Instead of $A$ we can use a weight matrix $W$\n",
    "\n",
    ">$ L = D - W$ \n",
    "><br><br>\n",
    "> where $D$ has diagonal elements\n",
    "><br><br>\n",
    ">$\\displaystyle d_{ii} = \\sum_j w_{ij}$\n",
    "\n",
    "- Interesting property\n",
    "\n",
    ">$\\displaystyle x^T L\\,x = \\frac{1}{2}\\sum_{i,j}^n w_{ij}\\,(x_i\\!-\\!x_j)^2 $ "
   ]
  },
  {
   "cell_type": "markdown",
   "metadata": {},
   "source": [
    "## Minimization\n",
    "\n",
    "- Solution: smallest eigenvalues of $L$ and corresponding eigenvectors\n",
    "\n",
    "> The 1st eigenvector is the trivial solution (constant) <br>\n",
    "> We use the 2nd eigenvector, and so on...\n",
    "\n",
    "- Laplacian eigenmaps\n",
    "\n",
    "> Different similarity matrices to start with<br>\n",
    "> Different normalizations\n"
   ]
  },
  {
   "cell_type": "code",
   "execution_count": null,
   "metadata": {},
   "outputs": [],
   "source": [
    "%matplotlib inline\n",
    "import numpy as np\n",
    "import matplotlib.pyplot as plt"
   ]
  },
  {
   "cell_type": "markdown",
   "metadata": {},
   "source": [
    "# Blobs \n",
    "\n",
    "- Calculate and show the adjacency matrix\n",
    "- Solve for the first 3 non-trivial eigenvectors\n",
    "- Plot the diffusion coordinates\n",
    "- Plot the original coordinates colored by the eigenvectors\n"
   ]
  },
  {
   "cell_type": "code",
   "execution_count": null,
   "metadata": {},
   "outputs": [],
   "source": [
    "X = np.loadtxt('files/Class-Blobs.csv', delimiter=',')\n",
    "X.shape"
   ]
  },
  {
   "cell_type": "code",
   "execution_count": null,
   "metadata": {},
   "outputs": [],
   "source": [
    "d2 =  np.square(X[np.newaxis,:,:]-X[:,np.newaxis,:]).sum(axis=2)\n",
    "A = (d2<16).astype(np.float32) # distance^2 threshold \n",
    "np.fill_diagonal(A,0); plt.spy(A);"
   ]
  },
  {
   "cell_type": "code",
   "execution_count": null,
   "metadata": {},
   "outputs": [],
   "source": [
    "dd = A.sum(axis=0)\n",
    "D = np.diag(dd)\n",
    "\n",
    "L = D - A\n",
    "\n",
    "w, v = np.linalg.eigh(L)\n",
    "\n",
    "print (w[0:4])\n",
    "print (w.shape, v.shape)\n",
    "plt.plot(w)\n",
    "\n",
    "plt.figure()\n",
    "plt.plot(v[:,1], 'x', alpha=0.5);"
   ]
  },
  {
   "cell_type": "code",
   "execution_count": null,
   "metadata": {},
   "outputs": [],
   "source": [
    "s = np.argsort(v[:,1]); \n",
    "plt.figure(); plt.plot(v[s,1],'bx',alpha=0.1);\n",
    "plt.figure(); plt.plot(v[s,2],'rx',alpha=0.1);"
   ]
  },
  {
   "cell_type": "code",
   "execution_count": null,
   "metadata": {},
   "outputs": [],
   "source": [
    "plt.scatter(v[:,1],v[:,2], alpha=0.01);"
   ]
  },
  {
   "cell_type": "code",
   "execution_count": null,
   "metadata": {},
   "outputs": [],
   "source": [
    "plt.scatter(X[:,0], X[:,1], c=v[:,1], cmap=plt.cm.rainbow); plt.colorbar();"
   ]
  },
  {
   "cell_type": "code",
   "execution_count": null,
   "metadata": {},
   "outputs": [],
   "source": [
    "plt.scatter(X[:,0], X[:,1], c=v[:,2], cmap=plt.cm.rainbow); plt.colorbar();"
   ]
  },
  {
   "cell_type": "code",
   "execution_count": null,
   "metadata": {},
   "outputs": [],
   "source": [
    "plt.scatter(X[:,0], X[:,1], c=v[:,3], cmap=plt.cm.rainbow); plt.colorbar();"
   ]
  },
  {
   "cell_type": "markdown",
   "metadata": {},
   "source": [
    "# Circles\n",
    "\n",
    "Using weights"
   ]
  },
  {
   "cell_type": "code",
   "execution_count": null,
   "metadata": {},
   "outputs": [],
   "source": [
    "from sklearn import datasets\n",
    "np.random.seed(3) # try other seeds, e.g., 0\n",
    "\n",
    "X, c = datasets.make_circles(n_samples=1000, factor=0.6, noise=0.05)\n",
    "\n",
    "plt.figure(); plt.subplot(111,aspect='equal'); \n",
    "plt.scatter(X[:,0], X[:,1], alpha=0.4, edgecolor='none');"
   ]
  },
  {
   "cell_type": "code",
   "execution_count": null,
   "metadata": {},
   "outputs": [],
   "source": [
    "# Weight matrix \n",
    "d2 =  np.square(X[np.newaxis,:,:]-X[:,np.newaxis,:]).sum(axis=2)\n",
    "\n",
    "W = np.exp(-d2 / 0.016)\n",
    "np.fill_diagonal(W,0)\n",
    "\n",
    "# Laplacian\n",
    "dd = W.sum(axis=0)\n",
    "D = np.diag(dd)\n",
    "L = D - W\n",
    "\n",
    "# eigenproblem\n",
    "w, v = np.linalg.eigh(L)\n",
    "labels = v[:,1] > 0\n",
    "print (w[:4])\n",
    "\n",
    "# plots\n",
    "plt.figure(figsize=(9,4)); plt.subplot(121);\n",
    "\n",
    "s = np.argsort(v[:,1]); plt.plot(v[s,1], 'x', alpha=0.6);\n",
    "plt.subplot(122,aspect='equal')\n",
    "plt.scatter(X[:,0], X[:,1], c=labels, cmap=plt.cm.BrBG, alpha=0.5);"
   ]
  },
  {
   "cell_type": "code",
   "execution_count": null,
   "metadata": {},
   "outputs": [],
   "source": [
    "plt.figure(figsize=(13,3)); \n",
    "\n",
    "plt.subplot(131,aspect='equal'); plt.scatter(X[:,0],X[:,1],c=c,alpha=0.3); \n",
    "plt.colorbar(); plt.title('generated clusters');\n",
    "\n",
    "plt.subplot(132,aspect='equal'); plt.scatter(X[:,0],X[:,1],c=v[:,1],cmap=plt.cm.seismic,alpha=0.3); \n",
    "plt.colorbar(); plt.title('colored by eigenvector');\n",
    "\n",
    "plt.subplot(133,aspect='equal'); plt.scatter(X[:,0],X[:,1],c=(v[:,1]>0),cmap=plt.cm.bwr, alpha=0.3); \n",
    "plt.colorbar(); plt.title('derived clusters');"
   ]
  },
  {
   "cell_type": "markdown",
   "metadata": {},
   "source": [
    "## Embedding coordinates"
   ]
  },
  {
   "cell_type": "code",
   "execution_count": null,
   "metadata": {},
   "outputs": [],
   "source": [
    "plt.figure(figsize=(13.5,4)); \n",
    "\n",
    "plt.subplot(131,aspect='equal');\n",
    "plt.scatter(X[:,0],X[:,1],c='k',edgecolor='none',alpha=0.4); plt.title('orig');\n",
    "\n",
    "plt.subplot(132,aspect='equal');\n",
    "plt.scatter(v[:,1],v[:,2],c='k',edgecolor='none',alpha=0.4); plt.title('eig12');\n",
    "\n",
    "plt.subplot(133,aspect='equal');\n",
    "plt.scatter(v[:,2],v[:,3],c='k',edgecolor='none',alpha=0.4); plt.title('eig23');"
   ]
  },
  {
   "cell_type": "markdown",
   "metadata": {},
   "source": [
    "## Embedding with scikit-learn\n",
    "\n",
    "> See online [documentation](http://scikit-learn.org/stable/modules/generated/sklearn.manifold.spectral_embedding.html)\n",
    "\n"
   ]
  },
  {
   "cell_type": "code",
   "execution_count": null,
   "metadata": {},
   "outputs": [],
   "source": [
    "from sklearn.manifold import spectral_embedding\n",
    "\n",
    "e = spectral_embedding(adjacency=W, n_components=4, norm_laplacian=False,\n",
    "                       drop_first=False)\n",
    "s = np.argsort(e[:,1]) \n",
    "\n",
    "plt.figure(figsize=(9,4)) \n",
    "plt.subplot(121); plt.plot(e[s,1], 'xb', alpha=0.6)\n",
    "plt.subplot(122, aspect='equal')\n",
    "plt.scatter(X[:,0],X[:,1],c=(e[:,1]>0),cmap=plt.cm.BrBG,edgecolor='none',alpha=0.4);"
   ]
  },
  {
   "cell_type": "code",
   "execution_count": null,
   "metadata": {},
   "outputs": [],
   "source": [
    "plt.figure(figsize=(13.5,4)); \n",
    "\n",
    "plt.subplot(131,aspect='equal');\n",
    "plt.scatter(X[:,0],X[:,1],c='k',edgecolor='none',alpha=0.4); plt.title('orig');\n",
    "\n",
    "plt.subplot(132,aspect='equal');\n",
    "plt.scatter(e[:,1],e[:,2],c='k',edgecolor='none',alpha=0.4); plt.title('eig12');\n",
    "\n",
    "plt.subplot(133,aspect='equal');\n",
    "plt.scatter(e[:,2],e[:,3],c='k',edgecolor='none',alpha=0.4); plt.title('eig23');"
   ]
  },
  {
   "cell_type": "markdown",
   "metadata": {},
   "source": [
    "## Alternatively\n",
    "\n",
    "> See online [documentation](http://scikit-learn.org/stable/modules/generated/sklearn.manifold.SpectralEmbedding.html)\n"
   ]
  },
  {
   "cell_type": "code",
   "execution_count": null,
   "metadata": {},
   "outputs": [],
   "source": [
    "from sklearn.manifold import SpectralEmbedding\n",
    "\n",
    "se = SpectralEmbedding(n_components=3, n_neighbors=20)\n",
    "\n",
    "f = se.fit_transform(X)"
   ]
  },
  {
   "cell_type": "code",
   "execution_count": null,
   "metadata": {},
   "outputs": [],
   "source": [
    "plt.figure(figsize=(9,9)); \n",
    "\n",
    "plt.subplot(221,aspect='equal');\n",
    "plt.scatter(e[:,1],e[:,2],c='k',edgecolor='none',alpha=0.4); plt.title('sk-fun 12');\n",
    "\n",
    "plt.subplot(223,aspect='equal');\n",
    "plt.scatter(e[:,2],e[:,3],c='k',edgecolor='none',alpha=0.4); plt.title('sk-fun 23');\n",
    "\n",
    "plt.subplot(222,aspect='equal');\n",
    "plt.scatter(f[:,0],f[:,1],c='k',edgecolor='none',alpha=0.4); plt.title('sk-obj 12');\n",
    "\n",
    "plt.subplot(224,aspect='equal');\n",
    "plt.scatter(f[:,1],f[:,2],c='k',edgecolor='none',alpha=0.4); plt.title('sk-obj 23');"
   ]
  },
  {
   "cell_type": "markdown",
   "metadata": {},
   "source": [
    "## Parameters\n",
    "\n",
    "- Often we use a combination of two parameters\n",
    "\n",
    "> $k$: number of neighbors to consider for similarity graph\n",
    "><br>\n",
    "> $\\epsilon$: bandwidth of the $\\exp\\left(-d^2/\\epsilon\\right)$ similarity"
   ]
  },
  {
   "cell_type": "markdown",
   "metadata": {},
   "source": [
    "## Clustering scikit-learn\n",
    "\n",
    "> See online [documentation](http://scikit-learn.org/stable/modules/generated/sklearn.cluster.SpectralClustering.html#sklearn.cluster.SpectralClustering)"
   ]
  },
  {
   "cell_type": "code",
   "execution_count": null,
   "metadata": {},
   "outputs": [],
   "source": [
    "from sklearn.cluster import SpectralClustering\n",
    "\n",
    "sc = SpectralClustering(n_clusters=2)\n",
    "clusters = sc.fit_predict(X)\n",
    "\n",
    "plt.figure(figsize=(9,4)); \n",
    "\n",
    "plt.subplot(121,aspect='equal')\n",
    "plt.scatter(X[:,0],X[:,1],c=c,edgecolor='none',alpha=0.4)\n",
    "plt.title('orig');\n",
    "\n",
    "plt.subplot(122,aspect='equal');\n",
    "plt.scatter(X[:,0],X[:,1],c=clusters,cmap=plt.cm.BrBG,edgecolor='none',alpha=0.4)\n",
    "plt.title('clusters');"
   ]
  },
  {
   "cell_type": "markdown",
   "metadata": {},
   "source": [
    "## Exercise\n",
    "\n",
    "- What's wrong with the above clustering?\n",
    "- Read the documentation and fix the code\n",
    "- If you found a fix, look for another"
   ]
  }
 ],
 "metadata": {
  "kernelspec": {
   "display_name": "Python 3 (ipykernel)",
   "language": "python",
   "name": "python3"
  },
  "language_info": {
   "codemirror_mode": {
    "name": "ipython",
    "version": 3
   },
   "file_extension": ".py",
   "mimetype": "text/x-python",
   "name": "python",
   "nbconvert_exporter": "python",
   "pygments_lexer": "ipython3",
   "version": "3.9.12"
  }
 },
 "nbformat": 4,
 "nbformat_minor": 4
}
