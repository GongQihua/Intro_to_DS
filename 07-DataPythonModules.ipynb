{
 "cells": [
  {
   "cell_type": "markdown",
   "metadata": {},
   "source": [
    "<hr/>\n",
    "\n",
    "# Introduction to Data Science\n",
    "**Tamás Budavári** - budavari@jhu.edu <br/>\n",
    "\n",
    "- Useful Python modules\n",
    "\n",
    "<hr/>"
   ]
  },
  {
   "cell_type": "code",
   "execution_count": 1,
   "metadata": {},
   "outputs": [],
   "source": [
    "%matplotlib inline\n",
    "import numpy as np\n",
    "import matplotlib.pyplot as plt"
   ]
  },
  {
   "cell_type": "code",
   "execution_count": 2,
   "metadata": {},
   "outputs": [],
   "source": [
    "from IPython.display import display"
   ]
  },
  {
   "cell_type": "code",
   "execution_count": 3,
   "metadata": {},
   "outputs": [
    {
     "name": "stdout",
     "output_type": "stream",
     "text": [
      "[[ 0.19611866  0.9124648  -0.85254937  1.1335434 ]\n",
      " [ 0.74112081  0.41719949 -0.15103965  0.28959495]\n",
      " [-0.17223724  0.74524631  1.09347313  0.61256761]\n",
      " [ 1.23387566 -0.65790479  1.2315623   1.40948772]\n",
      " [-0.43372676 -1.23436947 -0.68088827 -0.84114001]\n",
      " [ 0.39458865  1.72198163  1.34257842  2.31052783]]\n"
     ]
    }
   ],
   "source": [
    "m = np.random.randn(6,4)\n",
    "print (m)"
   ]
  },
  {
   "cell_type": "code",
   "execution_count": 4,
   "metadata": {},
   "outputs": [
    {
     "data": {
      "text/plain": [
       "array([[ 0.19611866,  0.9124648 , -0.85254937,  1.1335434 ],\n",
       "       [ 0.74112081,  0.41719949, -0.15103965,  0.28959495],\n",
       "       [-0.17223724,  0.74524631,  1.09347313,  0.61256761],\n",
       "       [ 1.23387566, -0.65790479,  1.2315623 ,  1.40948772],\n",
       "       [-0.43372676, -1.23436947, -0.68088827, -0.84114001],\n",
       "       [ 0.39458865,  1.72198163,  1.34257842,  2.31052783]])"
      ]
     },
     "execution_count": 4,
     "metadata": {},
     "output_type": "execute_result"
    }
   ],
   "source": [
    "m"
   ]
  },
  {
   "cell_type": "code",
   "execution_count": 5,
   "metadata": {},
   "outputs": [
    {
     "data": {
      "text/plain": [
       "array([[ 0.19611866,  0.9124648 , -0.85254937,  1.1335434 ],\n",
       "       [ 0.74112081,  0.41719949, -0.15103965,  0.28959495],\n",
       "       [-0.17223724,  0.74524631,  1.09347313,  0.61256761],\n",
       "       [ 1.23387566, -0.65790479,  1.2315623 ,  1.40948772],\n",
       "       [-0.43372676, -1.23436947, -0.68088827, -0.84114001],\n",
       "       [ 0.39458865,  1.72198163,  1.34257842,  2.31052783]])"
      ]
     },
     "metadata": {},
     "output_type": "display_data"
    }
   ],
   "source": [
    "display(m)"
   ]
  },
  {
   "cell_type": "code",
   "execution_count": 6,
   "metadata": {},
   "outputs": [],
   "source": [
    "import pandas as pd"
   ]
  },
  {
   "cell_type": "code",
   "execution_count": 7,
   "metadata": {},
   "outputs": [
    {
     "data": {
      "text/html": [
       "<div>\n",
       "<style scoped>\n",
       "    .dataframe tbody tr th:only-of-type {\n",
       "        vertical-align: middle;\n",
       "    }\n",
       "\n",
       "    .dataframe tbody tr th {\n",
       "        vertical-align: top;\n",
       "    }\n",
       "\n",
       "    .dataframe thead th {\n",
       "        text-align: right;\n",
       "    }\n",
       "</style>\n",
       "<table border=\"1\" class=\"dataframe\">\n",
       "  <thead>\n",
       "    <tr style=\"text-align: right;\">\n",
       "      <th></th>\n",
       "      <th>0</th>\n",
       "      <th>1</th>\n",
       "      <th>2</th>\n",
       "      <th>3</th>\n",
       "    </tr>\n",
       "  </thead>\n",
       "  <tbody>\n",
       "    <tr>\n",
       "      <th>0</th>\n",
       "      <td>0.196119</td>\n",
       "      <td>0.912465</td>\n",
       "      <td>-0.852549</td>\n",
       "      <td>1.133543</td>\n",
       "    </tr>\n",
       "    <tr>\n",
       "      <th>1</th>\n",
       "      <td>0.741121</td>\n",
       "      <td>0.417199</td>\n",
       "      <td>-0.151040</td>\n",
       "      <td>0.289595</td>\n",
       "    </tr>\n",
       "    <tr>\n",
       "      <th>2</th>\n",
       "      <td>-0.172237</td>\n",
       "      <td>0.745246</td>\n",
       "      <td>1.093473</td>\n",
       "      <td>0.612568</td>\n",
       "    </tr>\n",
       "    <tr>\n",
       "      <th>3</th>\n",
       "      <td>1.233876</td>\n",
       "      <td>-0.657905</td>\n",
       "      <td>1.231562</td>\n",
       "      <td>1.409488</td>\n",
       "    </tr>\n",
       "    <tr>\n",
       "      <th>4</th>\n",
       "      <td>-0.433727</td>\n",
       "      <td>-1.234369</td>\n",
       "      <td>-0.680888</td>\n",
       "      <td>-0.841140</td>\n",
       "    </tr>\n",
       "    <tr>\n",
       "      <th>5</th>\n",
       "      <td>0.394589</td>\n",
       "      <td>1.721982</td>\n",
       "      <td>1.342578</td>\n",
       "      <td>2.310528</td>\n",
       "    </tr>\n",
       "  </tbody>\n",
       "</table>\n",
       "</div>"
      ],
      "text/plain": [
       "          0         1         2         3\n",
       "0  0.196119  0.912465 -0.852549  1.133543\n",
       "1  0.741121  0.417199 -0.151040  0.289595\n",
       "2 -0.172237  0.745246  1.093473  0.612568\n",
       "3  1.233876 -0.657905  1.231562  1.409488\n",
       "4 -0.433727 -1.234369 -0.680888 -0.841140\n",
       "5  0.394589  1.721982  1.342578  2.310528"
      ]
     },
     "execution_count": 7,
     "metadata": {},
     "output_type": "execute_result"
    }
   ],
   "source": [
    "df = pd.DataFrame(m)\n",
    "df"
   ]
  },
  {
   "cell_type": "code",
   "execution_count": 8,
   "metadata": {},
   "outputs": [
    {
     "data": {
      "text/plain": [
       "DatetimeIndex(['2021-12-30', '2021-12-31', '2022-01-01', '2022-01-02',\n",
       "               '2022-01-03', '2022-01-04'],\n",
       "              dtype='datetime64[ns]', freq='D')"
      ]
     },
     "execution_count": 8,
     "metadata": {},
     "output_type": "execute_result"
    }
   ],
   "source": [
    "dates = pd.date_range('2021-12-30', periods=m.shape[0]);\n",
    "dates"
   ]
  },
  {
   "cell_type": "code",
   "execution_count": 9,
   "metadata": {},
   "outputs": [
    {
     "data": {
      "text/html": [
       "<div>\n",
       "<style scoped>\n",
       "    .dataframe tbody tr th:only-of-type {\n",
       "        vertical-align: middle;\n",
       "    }\n",
       "\n",
       "    .dataframe tbody tr th {\n",
       "        vertical-align: top;\n",
       "    }\n",
       "\n",
       "    .dataframe thead th {\n",
       "        text-align: right;\n",
       "    }\n",
       "</style>\n",
       "<table border=\"1\" class=\"dataframe\">\n",
       "  <thead>\n",
       "    <tr style=\"text-align: right;\">\n",
       "      <th></th>\n",
       "      <th>A</th>\n",
       "      <th>B</th>\n",
       "      <th>C</th>\n",
       "      <th>D</th>\n",
       "    </tr>\n",
       "    <tr>\n",
       "      <th>Dates</th>\n",
       "      <th></th>\n",
       "      <th></th>\n",
       "      <th></th>\n",
       "      <th></th>\n",
       "    </tr>\n",
       "  </thead>\n",
       "  <tbody>\n",
       "    <tr>\n",
       "      <th>2021-12-30</th>\n",
       "      <td>0.196119</td>\n",
       "      <td>0.912465</td>\n",
       "      <td>-0.852549</td>\n",
       "      <td>1.133543</td>\n",
       "    </tr>\n",
       "    <tr>\n",
       "      <th>2021-12-31</th>\n",
       "      <td>0.741121</td>\n",
       "      <td>0.417199</td>\n",
       "      <td>-0.151040</td>\n",
       "      <td>0.289595</td>\n",
       "    </tr>\n",
       "    <tr>\n",
       "      <th>2022-01-01</th>\n",
       "      <td>-0.172237</td>\n",
       "      <td>0.745246</td>\n",
       "      <td>1.093473</td>\n",
       "      <td>0.612568</td>\n",
       "    </tr>\n",
       "    <tr>\n",
       "      <th>2022-01-02</th>\n",
       "      <td>1.233876</td>\n",
       "      <td>-0.657905</td>\n",
       "      <td>1.231562</td>\n",
       "      <td>1.409488</td>\n",
       "    </tr>\n",
       "    <tr>\n",
       "      <th>2022-01-03</th>\n",
       "      <td>-0.433727</td>\n",
       "      <td>-1.234369</td>\n",
       "      <td>-0.680888</td>\n",
       "      <td>-0.841140</td>\n",
       "    </tr>\n",
       "    <tr>\n",
       "      <th>2022-01-04</th>\n",
       "      <td>0.394589</td>\n",
       "      <td>1.721982</td>\n",
       "      <td>1.342578</td>\n",
       "      <td>2.310528</td>\n",
       "    </tr>\n",
       "  </tbody>\n",
       "</table>\n",
       "</div>"
      ],
      "text/plain": [
       "                   A         B         C         D\n",
       "Dates                                             \n",
       "2021-12-30  0.196119  0.912465 -0.852549  1.133543\n",
       "2021-12-31  0.741121  0.417199 -0.151040  0.289595\n",
       "2022-01-01 -0.172237  0.745246  1.093473  0.612568\n",
       "2022-01-02  1.233876 -0.657905  1.231562  1.409488\n",
       "2022-01-03 -0.433727 -1.234369 -0.680888 -0.841140\n",
       "2022-01-04  0.394589  1.721982  1.342578  2.310528"
      ]
     },
     "execution_count": 9,
     "metadata": {},
     "output_type": "execute_result"
    }
   ],
   "source": [
    "df = pd.DataFrame(m, index=dates, columns=list('ABCD'))\n",
    "df.index.name = 'Dates'\n",
    "df"
   ]
  },
  {
   "cell_type": "code",
   "execution_count": 10,
   "metadata": {},
   "outputs": [
    {
     "data": {
      "text/html": [
       "<div>\n",
       "<style scoped>\n",
       "    .dataframe tbody tr th:only-of-type {\n",
       "        vertical-align: middle;\n",
       "    }\n",
       "\n",
       "    .dataframe tbody tr th {\n",
       "        vertical-align: top;\n",
       "    }\n",
       "\n",
       "    .dataframe thead th {\n",
       "        text-align: right;\n",
       "    }\n",
       "</style>\n",
       "<table border=\"1\" class=\"dataframe\">\n",
       "  <thead>\n",
       "    <tr style=\"text-align: right;\">\n",
       "      <th></th>\n",
       "      <th>A</th>\n",
       "      <th>B</th>\n",
       "      <th>C</th>\n",
       "      <th>D</th>\n",
       "    </tr>\n",
       "    <tr>\n",
       "      <th>Dates</th>\n",
       "      <th></th>\n",
       "      <th></th>\n",
       "      <th></th>\n",
       "      <th></th>\n",
       "    </tr>\n",
       "  </thead>\n",
       "  <tbody>\n",
       "    <tr>\n",
       "      <th>2021-12-30</th>\n",
       "      <td>0.196119</td>\n",
       "      <td>0.912465</td>\n",
       "      <td>-0.852549</td>\n",
       "      <td>1.133543</td>\n",
       "    </tr>\n",
       "    <tr>\n",
       "      <th>2021-12-31</th>\n",
       "      <td>0.741121</td>\n",
       "      <td>0.417199</td>\n",
       "      <td>-0.151040</td>\n",
       "      <td>0.289595</td>\n",
       "    </tr>\n",
       "    <tr>\n",
       "      <th>2022-01-01</th>\n",
       "      <td>-0.172237</td>\n",
       "      <td>0.745246</td>\n",
       "      <td>1.093473</td>\n",
       "      <td>0.612568</td>\n",
       "    </tr>\n",
       "    <tr>\n",
       "      <th>2022-01-02</th>\n",
       "      <td>1.233876</td>\n",
       "      <td>-0.657905</td>\n",
       "      <td>1.231562</td>\n",
       "      <td>1.409488</td>\n",
       "    </tr>\n",
       "    <tr>\n",
       "      <th>2022-01-03</th>\n",
       "      <td>-0.433727</td>\n",
       "      <td>-1.234369</td>\n",
       "      <td>-0.680888</td>\n",
       "      <td>-0.841140</td>\n",
       "    </tr>\n",
       "    <tr>\n",
       "      <th>2022-01-04</th>\n",
       "      <td>0.394589</td>\n",
       "      <td>1.721982</td>\n",
       "      <td>1.342578</td>\n",
       "      <td>2.310528</td>\n",
       "    </tr>\n",
       "  </tbody>\n",
       "</table>\n",
       "</div>"
      ],
      "text/plain": [
       "                   A         B         C         D\n",
       "Dates                                             \n",
       "2021-12-30  0.196119  0.912465 -0.852549  1.133543\n",
       "2021-12-31  0.741121  0.417199 -0.151040  0.289595\n",
       "2022-01-01 -0.172237  0.745246  1.093473  0.612568\n",
       "2022-01-02  1.233876 -0.657905  1.231562  1.409488\n",
       "2022-01-03 -0.433727 -1.234369 -0.680888 -0.841140\n",
       "2022-01-04  0.394589  1.721982  1.342578  2.310528"
      ]
     },
     "metadata": {},
     "output_type": "display_data"
    },
    {
     "data": {
      "text/html": [
       "<div>\n",
       "<style scoped>\n",
       "    .dataframe tbody tr th:only-of-type {\n",
       "        vertical-align: middle;\n",
       "    }\n",
       "\n",
       "    .dataframe tbody tr th {\n",
       "        vertical-align: top;\n",
       "    }\n",
       "\n",
       "    .dataframe thead th {\n",
       "        text-align: right;\n",
       "    }\n",
       "</style>\n",
       "<table border=\"1\" class=\"dataframe\">\n",
       "  <thead>\n",
       "    <tr style=\"text-align: right;\">\n",
       "      <th></th>\n",
       "      <th>A</th>\n",
       "      <th>B</th>\n",
       "      <th>C</th>\n",
       "      <th>D</th>\n",
       "    </tr>\n",
       "    <tr>\n",
       "      <th>Dates</th>\n",
       "      <th></th>\n",
       "      <th></th>\n",
       "      <th></th>\n",
       "      <th></th>\n",
       "    </tr>\n",
       "  </thead>\n",
       "  <tbody>\n",
       "    <tr>\n",
       "      <th>2022-01-02</th>\n",
       "      <td>1.233876</td>\n",
       "      <td>-0.657905</td>\n",
       "      <td>1.231562</td>\n",
       "      <td>1.409488</td>\n",
       "    </tr>\n",
       "    <tr>\n",
       "      <th>2022-01-03</th>\n",
       "      <td>-0.433727</td>\n",
       "      <td>-1.234369</td>\n",
       "      <td>-0.680888</td>\n",
       "      <td>-0.841140</td>\n",
       "    </tr>\n",
       "    <tr>\n",
       "      <th>2022-01-04</th>\n",
       "      <td>0.394589</td>\n",
       "      <td>1.721982</td>\n",
       "      <td>1.342578</td>\n",
       "      <td>2.310528</td>\n",
       "    </tr>\n",
       "  </tbody>\n",
       "</table>\n",
       "</div>"
      ],
      "text/plain": [
       "                   A         B         C         D\n",
       "Dates                                             \n",
       "2022-01-02  1.233876 -0.657905  1.231562  1.409488\n",
       "2022-01-03 -0.433727 -1.234369 -0.680888 -0.841140\n",
       "2022-01-04  0.394589  1.721982  1.342578  2.310528"
      ]
     },
     "metadata": {},
     "output_type": "display_data"
    }
   ],
   "source": [
    "display(df)\n",
    "display(df.tail(3))"
   ]
  },
  {
   "cell_type": "code",
   "execution_count": 11,
   "metadata": {},
   "outputs": [
    {
     "data": {
      "text/html": [
       "<div>\n",
       "<style scoped>\n",
       "    .dataframe tbody tr th:only-of-type {\n",
       "        vertical-align: middle;\n",
       "    }\n",
       "\n",
       "    .dataframe tbody tr th {\n",
       "        vertical-align: top;\n",
       "    }\n",
       "\n",
       "    .dataframe thead th {\n",
       "        text-align: right;\n",
       "    }\n",
       "</style>\n",
       "<table border=\"1\" class=\"dataframe\">\n",
       "  <thead>\n",
       "    <tr style=\"text-align: right;\">\n",
       "      <th></th>\n",
       "      <th>A</th>\n",
       "      <th>B</th>\n",
       "      <th>C</th>\n",
       "      <th>D</th>\n",
       "    </tr>\n",
       "    <tr>\n",
       "      <th>Dates</th>\n",
       "      <th></th>\n",
       "      <th></th>\n",
       "      <th></th>\n",
       "      <th></th>\n",
       "    </tr>\n",
       "  </thead>\n",
       "  <tbody>\n",
       "    <tr>\n",
       "      <th>2021-12-31</th>\n",
       "      <td>0.741121</td>\n",
       "      <td>0.417199</td>\n",
       "      <td>-0.151040</td>\n",
       "      <td>0.289595</td>\n",
       "    </tr>\n",
       "    <tr>\n",
       "      <th>2022-01-04</th>\n",
       "      <td>0.394589</td>\n",
       "      <td>1.721982</td>\n",
       "      <td>1.342578</td>\n",
       "      <td>2.310528</td>\n",
       "    </tr>\n",
       "    <tr>\n",
       "      <th>2022-01-02</th>\n",
       "      <td>1.233876</td>\n",
       "      <td>-0.657905</td>\n",
       "      <td>1.231562</td>\n",
       "      <td>1.409488</td>\n",
       "    </tr>\n",
       "    <tr>\n",
       "      <th>2022-01-03</th>\n",
       "      <td>-0.433727</td>\n",
       "      <td>-1.234369</td>\n",
       "      <td>-0.680888</td>\n",
       "      <td>-0.841140</td>\n",
       "    </tr>\n",
       "    <tr>\n",
       "      <th>2021-12-30</th>\n",
       "      <td>0.196119</td>\n",
       "      <td>0.912465</td>\n",
       "      <td>-0.852549</td>\n",
       "      <td>1.133543</td>\n",
       "    </tr>\n",
       "  </tbody>\n",
       "</table>\n",
       "</div>"
      ],
      "text/plain": [
       "                   A         B         C         D\n",
       "Dates                                             \n",
       "2021-12-31  0.741121  0.417199 -0.151040  0.289595\n",
       "2022-01-04  0.394589  1.721982  1.342578  2.310528\n",
       "2022-01-02  1.233876 -0.657905  1.231562  1.409488\n",
       "2022-01-03 -0.433727 -1.234369 -0.680888 -0.841140\n",
       "2021-12-30  0.196119  0.912465 -0.852549  1.133543"
      ]
     },
     "execution_count": 11,
     "metadata": {},
     "output_type": "execute_result"
    }
   ],
   "source": [
    "df.sample(5)"
   ]
  },
  {
   "cell_type": "code",
   "execution_count": 12,
   "metadata": {},
   "outputs": [
    {
     "data": {
      "text/plain": [
       "Dates\n",
       "2021-12-30    0.196119\n",
       "2021-12-31    0.741121\n",
       "2022-01-01   -0.172237\n",
       "2022-01-02    1.233876\n",
       "2022-01-03   -0.433727\n",
       "2022-01-04    0.394589\n",
       "Freq: D, Name: A, dtype: float64"
      ]
     },
     "execution_count": 12,
     "metadata": {},
     "output_type": "execute_result"
    }
   ],
   "source": [
    "df['A']"
   ]
  },
  {
   "cell_type": "code",
   "execution_count": 13,
   "metadata": {},
   "outputs": [
    {
     "data": {
      "text/plain": [
       "Dates\n",
       "2021-12-30    0.196119\n",
       "2021-12-31    0.741121\n",
       "2022-01-01   -0.172237\n",
       "2022-01-02    1.233876\n",
       "2022-01-03   -0.433727\n",
       "2022-01-04    0.394589\n",
       "Freq: D, Name: A, dtype: float64"
      ]
     },
     "execution_count": 13,
     "metadata": {},
     "output_type": "execute_result"
    }
   ],
   "source": [
    "df.A"
   ]
  },
  {
   "cell_type": "code",
   "execution_count": 14,
   "metadata": {},
   "outputs": [
    {
     "data": {
      "text/plain": [
       "array([ 0.19611866,  0.74112081, -0.17223724,  1.23387566, -0.43372676,\n",
       "        0.39458865])"
      ]
     },
     "execution_count": 14,
     "metadata": {},
     "output_type": "execute_result"
    }
   ],
   "source": [
    "df.A.values"
   ]
  },
  {
   "cell_type": "code",
   "execution_count": 15,
   "metadata": {},
   "outputs": [
    {
     "data": {
      "text/plain": [
       "array([[ 0.19611866,  0.9124648 , -0.85254937,  1.1335434 ],\n",
       "       [ 0.74112081,  0.41719949, -0.15103965,  0.28959495],\n",
       "       [-0.17223724,  0.74524631,  1.09347313,  0.61256761],\n",
       "       [ 1.23387566, -0.65790479,  1.2315623 ,  1.40948772],\n",
       "       [-0.43372676, -1.23436947, -0.68088827, -0.84114001],\n",
       "       [ 0.39458865,  1.72198163,  1.34257842,  2.31052783]])"
      ]
     },
     "execution_count": 15,
     "metadata": {},
     "output_type": "execute_result"
    }
   ],
   "source": [
    "df.values"
   ]
  },
  {
   "cell_type": "code",
   "execution_count": 16,
   "metadata": {},
   "outputs": [
    {
     "data": {
      "text/plain": [
       "Index(['A', 'B', 'C', 'D'], dtype='object')"
      ]
     },
     "execution_count": 16,
     "metadata": {},
     "output_type": "execute_result"
    }
   ],
   "source": [
    "df.columns"
   ]
  },
  {
   "cell_type": "code",
   "execution_count": 17,
   "metadata": {},
   "outputs": [
    {
     "name": "stdout",
     "output_type": "stream",
     "text": [
      "A [ 0.19611866  0.74112081 -0.17223724  1.23387566 -0.43372676  0.39458865]\n",
      "B [ 0.9124648   0.41719949  0.74524631 -0.65790479 -1.23436947  1.72198163]\n",
      "C [-0.85254937 -0.15103965  1.09347313  1.2315623  -0.68088827  1.34257842]\n",
      "D [ 1.1335434   0.28959495  0.61256761  1.40948772 -0.84114001  2.31052783]\n"
     ]
    }
   ],
   "source": [
    "for k in df.columns:\n",
    "    print (k, df[k].values)"
   ]
  },
  {
   "cell_type": "code",
   "execution_count": 18,
   "metadata": {
    "scrolled": false
   },
   "outputs": [
    {
     "data": {
      "image/png": "[encoded data removed]",
      "text/plain": [
       "<Figure size 640x480 with 1 Axes>"
      ]
     },
     "metadata": {},
     "output_type": "display_data"
    }
   ],
   "source": [
    "df.plot();"
   ]
  },
  {
   "cell_type": "code",
   "execution_count": 19,
   "metadata": {},
   "outputs": [
    {
     "name": "stdout",
     "output_type": "stream",
     "text": [
      "A      float64\n",
      "B      float64\n",
      "C      float64\n",
      "D      float64\n",
      "new      int32\n",
      "dtype: object\n"
     ]
    },
    {
     "data": {
      "text/html": [
       "<div>\n",
       "<style scoped>\n",
       "    .dataframe tbody tr th:only-of-type {\n",
       "        vertical-align: middle;\n",
       "    }\n",
       "\n",
       "    .dataframe tbody tr th {\n",
       "        vertical-align: top;\n",
       "    }\n",
       "\n",
       "    .dataframe thead th {\n",
       "        text-align: right;\n",
       "    }\n",
       "</style>\n",
       "<table border=\"1\" class=\"dataframe\">\n",
       "  <thead>\n",
       "    <tr style=\"text-align: right;\">\n",
       "      <th></th>\n",
       "      <th>A</th>\n",
       "      <th>B</th>\n",
       "      <th>C</th>\n",
       "      <th>D</th>\n",
       "      <th>new</th>\n",
       "    </tr>\n",
       "    <tr>\n",
       "      <th>Dates</th>\n",
       "      <th></th>\n",
       "      <th></th>\n",
       "      <th></th>\n",
       "      <th></th>\n",
       "      <th></th>\n",
       "    </tr>\n",
       "  </thead>\n",
       "  <tbody>\n",
       "    <tr>\n",
       "      <th>2021-12-30</th>\n",
       "      <td>0.196119</td>\n",
       "      <td>0.912465</td>\n",
       "      <td>-0.852549</td>\n",
       "      <td>1.133543</td>\n",
       "      <td>5</td>\n",
       "    </tr>\n",
       "    <tr>\n",
       "      <th>2021-12-31</th>\n",
       "      <td>0.741121</td>\n",
       "      <td>0.417199</td>\n",
       "      <td>-0.151040</td>\n",
       "      <td>0.289595</td>\n",
       "      <td>5</td>\n",
       "    </tr>\n",
       "    <tr>\n",
       "      <th>2022-01-01</th>\n",
       "      <td>-0.172237</td>\n",
       "      <td>0.745246</td>\n",
       "      <td>1.093473</td>\n",
       "      <td>0.612568</td>\n",
       "      <td>5</td>\n",
       "    </tr>\n",
       "    <tr>\n",
       "      <th>2022-01-02</th>\n",
       "      <td>1.233876</td>\n",
       "      <td>-0.657905</td>\n",
       "      <td>1.231562</td>\n",
       "      <td>1.409488</td>\n",
       "      <td>5</td>\n",
       "    </tr>\n",
       "    <tr>\n",
       "      <th>2022-01-03</th>\n",
       "      <td>-0.433727</td>\n",
       "      <td>-1.234369</td>\n",
       "      <td>-0.680888</td>\n",
       "      <td>-0.841140</td>\n",
       "      <td>5</td>\n",
       "    </tr>\n",
       "    <tr>\n",
       "      <th>2022-01-04</th>\n",
       "      <td>0.394589</td>\n",
       "      <td>1.721982</td>\n",
       "      <td>1.342578</td>\n",
       "      <td>2.310528</td>\n",
       "      <td>5</td>\n",
       "    </tr>\n",
       "  </tbody>\n",
       "</table>\n",
       "</div>"
      ],
      "text/plain": [
       "                   A         B         C         D  new\n",
       "Dates                                                  \n",
       "2021-12-30  0.196119  0.912465 -0.852549  1.133543    5\n",
       "2021-12-31  0.741121  0.417199 -0.151040  0.289595    5\n",
       "2022-01-01 -0.172237  0.745246  1.093473  0.612568    5\n",
       "2022-01-02  1.233876 -0.657905  1.231562  1.409488    5\n",
       "2022-01-03 -0.433727 -1.234369 -0.680888 -0.841140    5\n",
       "2022-01-04  0.394589  1.721982  1.342578  2.310528    5"
      ]
     },
     "execution_count": 19,
     "metadata": {},
     "output_type": "execute_result"
    }
   ],
   "source": [
    "df['new'] = 5 * np.ones(len(df), dtype=np.int32)\n",
    "print (df.dtypes)\n",
    "df"
   ]
  },
  {
   "cell_type": "code",
   "execution_count": 20,
   "metadata": {},
   "outputs": [],
   "source": [
    "df['new'] = df.A.map(lambda x: 5*x)"
   ]
  },
  {
   "cell_type": "code",
   "execution_count": 21,
   "metadata": {},
   "outputs": [
    {
     "data": {
      "text/html": [
       "<div>\n",
       "<style scoped>\n",
       "    .dataframe tbody tr th:only-of-type {\n",
       "        vertical-align: middle;\n",
       "    }\n",
       "\n",
       "    .dataframe tbody tr th {\n",
       "        vertical-align: top;\n",
       "    }\n",
       "\n",
       "    .dataframe thead th {\n",
       "        text-align: right;\n",
       "    }\n",
       "</style>\n",
       "<table border=\"1\" class=\"dataframe\">\n",
       "  <thead>\n",
       "    <tr style=\"text-align: right;\">\n",
       "      <th></th>\n",
       "      <th>A</th>\n",
       "      <th>B</th>\n",
       "      <th>C</th>\n",
       "      <th>D</th>\n",
       "      <th>new</th>\n",
       "    </tr>\n",
       "    <tr>\n",
       "      <th>Dates</th>\n",
       "      <th></th>\n",
       "      <th></th>\n",
       "      <th></th>\n",
       "      <th></th>\n",
       "      <th></th>\n",
       "    </tr>\n",
       "  </thead>\n",
       "  <tbody>\n",
       "    <tr>\n",
       "      <th>2021-12-30</th>\n",
       "      <td>0.196119</td>\n",
       "      <td>0.912465</td>\n",
       "      <td>-0.852549</td>\n",
       "      <td>1.133543</td>\n",
       "      <td>0.980593</td>\n",
       "    </tr>\n",
       "    <tr>\n",
       "      <th>2021-12-31</th>\n",
       "      <td>0.741121</td>\n",
       "      <td>0.417199</td>\n",
       "      <td>-0.151040</td>\n",
       "      <td>0.289595</td>\n",
       "      <td>3.705604</td>\n",
       "    </tr>\n",
       "    <tr>\n",
       "      <th>2022-01-01</th>\n",
       "      <td>-0.172237</td>\n",
       "      <td>0.745246</td>\n",
       "      <td>1.093473</td>\n",
       "      <td>0.612568</td>\n",
       "      <td>-0.861186</td>\n",
       "    </tr>\n",
       "    <tr>\n",
       "      <th>2022-01-02</th>\n",
       "      <td>1.233876</td>\n",
       "      <td>-0.657905</td>\n",
       "      <td>1.231562</td>\n",
       "      <td>1.409488</td>\n",
       "      <td>6.169378</td>\n",
       "    </tr>\n",
       "    <tr>\n",
       "      <th>2022-01-03</th>\n",
       "      <td>-0.433727</td>\n",
       "      <td>-1.234369</td>\n",
       "      <td>-0.680888</td>\n",
       "      <td>-0.841140</td>\n",
       "      <td>-2.168634</td>\n",
       "    </tr>\n",
       "    <tr>\n",
       "      <th>2022-01-04</th>\n",
       "      <td>0.394589</td>\n",
       "      <td>1.721982</td>\n",
       "      <td>1.342578</td>\n",
       "      <td>2.310528</td>\n",
       "      <td>1.972943</td>\n",
       "    </tr>\n",
       "  </tbody>\n",
       "</table>\n",
       "</div>"
      ],
      "text/plain": [
       "                   A         B         C         D       new\n",
       "Dates                                                       \n",
       "2021-12-30  0.196119  0.912465 -0.852549  1.133543  0.980593\n",
       "2021-12-31  0.741121  0.417199 -0.151040  0.289595  3.705604\n",
       "2022-01-01 -0.172237  0.745246  1.093473  0.612568 -0.861186\n",
       "2022-01-02  1.233876 -0.657905  1.231562  1.409488  6.169378\n",
       "2022-01-03 -0.433727 -1.234369 -0.680888 -0.841140 -2.168634\n",
       "2022-01-04  0.394589  1.721982  1.342578  2.310528  1.972943"
      ]
     },
     "execution_count": 21,
     "metadata": {},
     "output_type": "execute_result"
    }
   ],
   "source": [
    "df"
   ]
  },
  {
   "cell_type": "code",
   "execution_count": 22,
   "metadata": {},
   "outputs": [
    {
     "data": {
      "image/png": "[encoded data removed]",
      "text/plain": [
       "<Figure size 640x480 with 1 Axes>"
      ]
     },
     "metadata": {},
     "output_type": "display_data"
    }
   ],
   "source": [
    "df.A.plot();\n",
    "df['B'].plot(alpha=0.3);"
   ]
  },
  {
   "cell_type": "code",
   "execution_count": 23,
   "metadata": {},
   "outputs": [
    {
     "data": {
      "text/plain": [
       "<matplotlib.collections.PathCollection at 0x1b56bf7aa00>"
      ]
     },
     "execution_count": 23,
     "metadata": {},
     "output_type": "execute_result"
    },
    {
     "data": {
      "image/png": "[encoded data removed]",
      "text/plain": [
       "<Figure size 640x480 with 1 Axes>"
      ]
     },
     "metadata": {},
     "output_type": "display_data"
    }
   ],
   "source": [
    "plt.scatter(df.A, df.new)"
   ]
  },
  {
   "cell_type": "code",
   "execution_count": 24,
   "metadata": {},
   "outputs": [
    {
     "data": {
      "text/plain": [
       "array([[ 0.19611866,  0.9124648 , -0.85254937,  1.1335434 ,  0.98059331],\n",
       "       [ 0.74112081,  0.41719949, -0.15103965,  0.28959495,  3.70560403],\n",
       "       [-0.17223724,  0.74524631,  1.09347313,  0.61256761, -0.8611862 ],\n",
       "       [ 1.23387566, -0.65790479,  1.2315623 ,  1.40948772,  6.16937831],\n",
       "       [-0.43372676, -1.23436947, -0.68088827, -0.84114001, -2.16863379],\n",
       "       [ 0.39458865,  1.72198163,  1.34257842,  2.31052783,  1.97294327]])"
      ]
     },
     "execution_count": 24,
     "metadata": {},
     "output_type": "execute_result"
    }
   ],
   "source": [
    "df.values"
   ]
  },
  {
   "cell_type": "markdown",
   "metadata": {},
   "source": [
    "## Data in Files\n",
    "\n",
    "- Comma Separated Value (CSV) "
   ]
  },
  {
   "cell_type": "code",
   "execution_count": 25,
   "metadata": {},
   "outputs": [],
   "source": [
    "# save the dataframe\n",
    "df.to_csv('random.csv')"
   ]
  },
  {
   "cell_type": "code",
   "execution_count": 26,
   "metadata": {},
   "outputs": [
    {
     "data": {
      "text/html": [
       "<div>\n",
       "<style scoped>\n",
       "    .dataframe tbody tr th:only-of-type {\n",
       "        vertical-align: middle;\n",
       "    }\n",
       "\n",
       "    .dataframe tbody tr th {\n",
       "        vertical-align: top;\n",
       "    }\n",
       "\n",
       "    .dataframe thead th {\n",
       "        text-align: right;\n",
       "    }\n",
       "</style>\n",
       "<table border=\"1\" class=\"dataframe\">\n",
       "  <thead>\n",
       "    <tr style=\"text-align: right;\">\n",
       "      <th></th>\n",
       "      <th>A</th>\n",
       "      <th>B</th>\n",
       "      <th>C</th>\n",
       "      <th>D</th>\n",
       "      <th>new</th>\n",
       "    </tr>\n",
       "    <tr>\n",
       "      <th>Dates</th>\n",
       "      <th></th>\n",
       "      <th></th>\n",
       "      <th></th>\n",
       "      <th></th>\n",
       "      <th></th>\n",
       "    </tr>\n",
       "  </thead>\n",
       "  <tbody>\n",
       "    <tr>\n",
       "      <th>2021-12-30</th>\n",
       "      <td>0.196119</td>\n",
       "      <td>0.912465</td>\n",
       "      <td>-0.852549</td>\n",
       "      <td>1.133543</td>\n",
       "      <td>0.980593</td>\n",
       "    </tr>\n",
       "    <tr>\n",
       "      <th>2021-12-31</th>\n",
       "      <td>0.741121</td>\n",
       "      <td>0.417199</td>\n",
       "      <td>-0.151040</td>\n",
       "      <td>0.289595</td>\n",
       "      <td>3.705604</td>\n",
       "    </tr>\n",
       "    <tr>\n",
       "      <th>2022-01-01</th>\n",
       "      <td>-0.172237</td>\n",
       "      <td>0.745246</td>\n",
       "      <td>1.093473</td>\n",
       "      <td>0.612568</td>\n",
       "      <td>-0.861186</td>\n",
       "    </tr>\n",
       "    <tr>\n",
       "      <th>2022-01-02</th>\n",
       "      <td>1.233876</td>\n",
       "      <td>-0.657905</td>\n",
       "      <td>1.231562</td>\n",
       "      <td>1.409488</td>\n",
       "      <td>6.169378</td>\n",
       "    </tr>\n",
       "    <tr>\n",
       "      <th>2022-01-03</th>\n",
       "      <td>-0.433727</td>\n",
       "      <td>-1.234369</td>\n",
       "      <td>-0.680888</td>\n",
       "      <td>-0.841140</td>\n",
       "      <td>-2.168634</td>\n",
       "    </tr>\n",
       "    <tr>\n",
       "      <th>2022-01-04</th>\n",
       "      <td>0.394589</td>\n",
       "      <td>1.721982</td>\n",
       "      <td>1.342578</td>\n",
       "      <td>2.310528</td>\n",
       "      <td>1.972943</td>\n",
       "    </tr>\n",
       "  </tbody>\n",
       "</table>\n",
       "</div>"
      ],
      "text/plain": [
       "                   A         B         C         D       new\n",
       "Dates                                                       \n",
       "2021-12-30  0.196119  0.912465 -0.852549  1.133543  0.980593\n",
       "2021-12-31  0.741121  0.417199 -0.151040  0.289595  3.705604\n",
       "2022-01-01 -0.172237  0.745246  1.093473  0.612568 -0.861186\n",
       "2022-01-02  1.233876 -0.657905  1.231562  1.409488  6.169378\n",
       "2022-01-03 -0.433727 -1.234369 -0.680888 -0.841140 -2.168634\n",
       "2022-01-04  0.394589  1.721982  1.342578  2.310528  1.972943"
      ]
     },
     "execution_count": 26,
     "metadata": {},
     "output_type": "execute_result"
    }
   ],
   "source": [
    "# load into new\n",
    "ndf = pd.read_csv('random.csv', index_col='Dates')\n",
    "ndf"
   ]
  },
  {
   "cell_type": "markdown",
   "metadata": {},
   "source": [
    "### Create a file in Excel\n",
    "\n",
    "\n",
    "- Save it as a csv in Excel\n"
   ]
  },
  {
   "cell_type": "code",
   "execution_count": 27,
   "metadata": {},
   "outputs": [
    {
     "data": {
      "text/html": [
       "<div>\n",
       "<style scoped>\n",
       "    .dataframe tbody tr th:only-of-type {\n",
       "        vertical-align: middle;\n",
       "    }\n",
       "\n",
       "    .dataframe tbody tr th {\n",
       "        vertical-align: top;\n",
       "    }\n",
       "\n",
       "    .dataframe thead th {\n",
       "        text-align: right;\n",
       "    }\n",
       "</style>\n",
       "<table border=\"1\" class=\"dataframe\">\n",
       "  <thead>\n",
       "    <tr style=\"text-align: right;\">\n",
       "      <th></th>\n",
       "      <th>X</th>\n",
       "      <th>Y</th>\n",
       "    </tr>\n",
       "  </thead>\n",
       "  <tbody>\n",
       "    <tr>\n",
       "      <th>0</th>\n",
       "      <td>0</td>\n",
       "      <td>0.000000</td>\n",
       "    </tr>\n",
       "    <tr>\n",
       "      <th>1</th>\n",
       "      <td>1</td>\n",
       "      <td>0.841471</td>\n",
       "    </tr>\n",
       "    <tr>\n",
       "      <th>2</th>\n",
       "      <td>2</td>\n",
       "      <td>0.909297</td>\n",
       "    </tr>\n",
       "    <tr>\n",
       "      <th>3</th>\n",
       "      <td>3</td>\n",
       "      <td>0.141120</td>\n",
       "    </tr>\n",
       "    <tr>\n",
       "      <th>4</th>\n",
       "      <td>4</td>\n",
       "      <td>-0.756802</td>\n",
       "    </tr>\n",
       "    <tr>\n",
       "      <th>5</th>\n",
       "      <td>5</td>\n",
       "      <td>-0.958924</td>\n",
       "    </tr>\n",
       "    <tr>\n",
       "      <th>6</th>\n",
       "      <td>6</td>\n",
       "      <td>-0.279415</td>\n",
       "    </tr>\n",
       "    <tr>\n",
       "      <th>7</th>\n",
       "      <td>7</td>\n",
       "      <td>0.656987</td>\n",
       "    </tr>\n",
       "    <tr>\n",
       "      <th>8</th>\n",
       "      <td>8</td>\n",
       "      <td>0.989358</td>\n",
       "    </tr>\n",
       "    <tr>\n",
       "      <th>9</th>\n",
       "      <td>9</td>\n",
       "      <td>0.412118</td>\n",
       "    </tr>\n",
       "    <tr>\n",
       "      <th>10</th>\n",
       "      <td>10</td>\n",
       "      <td>-0.544021</td>\n",
       "    </tr>\n",
       "    <tr>\n",
       "      <th>11</th>\n",
       "      <td>11</td>\n",
       "      <td>-0.999990</td>\n",
       "    </tr>\n",
       "    <tr>\n",
       "      <th>12</th>\n",
       "      <td>12</td>\n",
       "      <td>-0.536573</td>\n",
       "    </tr>\n",
       "    <tr>\n",
       "      <th>13</th>\n",
       "      <td>13</td>\n",
       "      <td>0.420167</td>\n",
       "    </tr>\n",
       "  </tbody>\n",
       "</table>\n",
       "</div>"
      ],
      "text/plain": [
       "     X         Y\n",
       "0    0  0.000000\n",
       "1    1  0.841471\n",
       "2    2  0.909297\n",
       "3    3  0.141120\n",
       "4    4 -0.756802\n",
       "5    5 -0.958924\n",
       "6    6 -0.279415\n",
       "7    7  0.656987\n",
       "8    8  0.989358\n",
       "9    9  0.412118\n",
       "10  10 -0.544021\n",
       "11  11 -0.999990\n",
       "12  12 -0.536573\n",
       "13  13  0.420167"
      ]
     },
     "execution_count": 27,
     "metadata": {},
     "output_type": "execute_result"
    },
    {
     "data": {
      "image/png": "[encoded data removed]",
      "text/plain": [
       "<Figure size 640x480 with 1 Axes>"
      ]
     },
     "metadata": {},
     "output_type": "display_data"
    }
   ],
   "source": [
    "# load file and plot it\n",
    "df = pd.read_csv('Book1.csv')\n",
    "plt.plot(df.X, df.Y, '.r-');\n",
    "df"
   ]
  },
  {
   "cell_type": "code",
   "execution_count": 28,
   "metadata": {},
   "outputs": [
    {
     "data": {
      "text/plain": [
       "<AxesSubplot: >"
      ]
     },
     "execution_count": 28,
     "metadata": {},
     "output_type": "execute_result"
    },
    {
     "data": {
      "image/png": "[encoded data removed]",
      "text/plain": [
       "<Figure size 640x480 with 1 Axes>"
      ]
     },
     "metadata": {},
     "output_type": "display_data"
    }
   ],
   "source": [
    "df.Y.plot()"
   ]
  },
  {
   "cell_type": "markdown",
   "metadata": {},
   "source": [
    "### Modules\n",
    "\n",
    "- Computation\n",
    "\n",
    "> [numpy](http://www.numpy.org/): arrays, vectorized functions, ...\n",
    "><br/>\n",
    "> [scipy](http://www.scipy.org/): stats, solvers, ...\n",
    "><br/>\n",
    "> [sklearn](http://scikit-learn.org/stable/index.html): machine learning, ...\n",
    "\n",
    "- Data \n",
    "\n",
    "> [pandas](http://pandas.pydata.org/pandas-docs/stable/10min.html): data structures, time series, ...\n",
    "\n",
    "- Plotting\n",
    "\n",
    "> [matplotlib](http://matplotlib.org/index.html): publication quality figures, animations, ...\n",
    "><br/>\n",
    "> [seaborn](http://seaborn.pydata.org/): statistical data visualization\n",
    "\n"
   ]
  },
  {
   "cell_type": "code",
   "execution_count": 29,
   "metadata": {},
   "outputs": [
    {
     "data": {
      "image/png": "[encoded data removed]",
      "text/plain": [
       "<Figure size 640x480 with 1 Axes>"
      ]
     },
     "metadata": {},
     "output_type": "display_data"
    }
   ],
   "source": [
    "df.index = df.X\n",
    "df.Y.plot();"
   ]
  },
  {
   "cell_type": "code",
   "execution_count": 30,
   "metadata": {},
   "outputs": [
    {
     "data": {
      "text/html": [
       "<div>\n",
       "<style scoped>\n",
       "    .dataframe tbody tr th:only-of-type {\n",
       "        vertical-align: middle;\n",
       "    }\n",
       "\n",
       "    .dataframe tbody tr th {\n",
       "        vertical-align: top;\n",
       "    }\n",
       "\n",
       "    .dataframe thead th {\n",
       "        text-align: right;\n",
       "    }\n",
       "</style>\n",
       "<table border=\"1\" class=\"dataframe\">\n",
       "  <thead>\n",
       "    <tr style=\"text-align: right;\">\n",
       "      <th></th>\n",
       "      <th>X</th>\n",
       "      <th>Y</th>\n",
       "    </tr>\n",
       "    <tr>\n",
       "      <th>X</th>\n",
       "      <th></th>\n",
       "      <th></th>\n",
       "    </tr>\n",
       "  </thead>\n",
       "  <tbody>\n",
       "    <tr>\n",
       "      <th>0</th>\n",
       "      <td>0</td>\n",
       "      <td>0.000000</td>\n",
       "    </tr>\n",
       "    <tr>\n",
       "      <th>1</th>\n",
       "      <td>1</td>\n",
       "      <td>0.841471</td>\n",
       "    </tr>\n",
       "    <tr>\n",
       "      <th>2</th>\n",
       "      <td>2</td>\n",
       "      <td>0.909297</td>\n",
       "    </tr>\n",
       "    <tr>\n",
       "      <th>3</th>\n",
       "      <td>3</td>\n",
       "      <td>0.141120</td>\n",
       "    </tr>\n",
       "    <tr>\n",
       "      <th>4</th>\n",
       "      <td>4</td>\n",
       "      <td>-0.756802</td>\n",
       "    </tr>\n",
       "    <tr>\n",
       "      <th>5</th>\n",
       "      <td>5</td>\n",
       "      <td>-0.958924</td>\n",
       "    </tr>\n",
       "    <tr>\n",
       "      <th>6</th>\n",
       "      <td>6</td>\n",
       "      <td>-0.279415</td>\n",
       "    </tr>\n",
       "    <tr>\n",
       "      <th>7</th>\n",
       "      <td>7</td>\n",
       "      <td>0.656987</td>\n",
       "    </tr>\n",
       "    <tr>\n",
       "      <th>8</th>\n",
       "      <td>8</td>\n",
       "      <td>0.989358</td>\n",
       "    </tr>\n",
       "    <tr>\n",
       "      <th>9</th>\n",
       "      <td>9</td>\n",
       "      <td>0.412118</td>\n",
       "    </tr>\n",
       "    <tr>\n",
       "      <th>10</th>\n",
       "      <td>10</td>\n",
       "      <td>-0.544021</td>\n",
       "    </tr>\n",
       "    <tr>\n",
       "      <th>11</th>\n",
       "      <td>11</td>\n",
       "      <td>-0.999990</td>\n",
       "    </tr>\n",
       "    <tr>\n",
       "      <th>12</th>\n",
       "      <td>12</td>\n",
       "      <td>-0.536573</td>\n",
       "    </tr>\n",
       "    <tr>\n",
       "      <th>13</th>\n",
       "      <td>13</td>\n",
       "      <td>0.420167</td>\n",
       "    </tr>\n",
       "  </tbody>\n",
       "</table>\n",
       "</div>"
      ],
      "text/plain": [
       "     X         Y\n",
       "X               \n",
       "0    0  0.000000\n",
       "1    1  0.841471\n",
       "2    2  0.909297\n",
       "3    3  0.141120\n",
       "4    4 -0.756802\n",
       "5    5 -0.958924\n",
       "6    6 -0.279415\n",
       "7    7  0.656987\n",
       "8    8  0.989358\n",
       "9    9  0.412118\n",
       "10  10 -0.544021\n",
       "11  11 -0.999990\n",
       "12  12 -0.536573\n",
       "13  13  0.420167"
      ]
     },
     "execution_count": 30,
     "metadata": {},
     "output_type": "execute_result"
    }
   ],
   "source": [
    "df"
   ]
  },
  {
   "cell_type": "code",
   "execution_count": 31,
   "metadata": {},
   "outputs": [
    {
     "name": "stdout",
     "output_type": "stream",
     "text": [
      "[10.5 11.5]\n"
     ]
    }
   ],
   "source": [
    "# least-squares fitting w/ scikit-learn\n",
    "from sklearn import linear_model\n",
    "lr = linear_model.LinearRegression()\n",
    "lr.fit([[0],[1],[2]], [10,11,12]);\n",
    "print (lr.predict([[0.5],[1.5]]))"
   ]
  },
  {
   "cell_type": "code",
   "execution_count": null,
   "metadata": {},
   "outputs": [],
   "source": []
  }
 ],
 "metadata": {
  "anaconda-cloud": {},
  "kernelspec": {
   "display_name": "Python 3 (ipykernel)",
   "language": "python",
   "name": "python3"
  },
  "language_info": {
   "codemirror_mode": {
    "name": "ipython",
    "version": 3
   },
   "file_extension": ".py",
   "mimetype": "text/x-python",
   "name": "python",
   "nbconvert_exporter": "python",
   "pygments_lexer": "ipython3",
   "version": "3.9.12"
  }
 },
 "nbformat": 4,
 "nbformat_minor": 1
}
