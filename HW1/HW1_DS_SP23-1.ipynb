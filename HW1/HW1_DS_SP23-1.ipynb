{
 "cells": [
  {
   "cell_type": "markdown",
   "id": "835943c2",
   "metadata": {},
   "source": [
    "# Homework 1"
   ]
  },
  {
   "cell_type": "markdown",
   "id": "c0678771",
   "metadata": {},
   "source": [
    "We load data on monthly stock returns from 1926 to 2021 ([source](https://mba.tuck.dartmouth.edu/pages/faculty/ken.french/data_library.html))."
   ]
  },
  {
   "cell_type": "code",
   "execution_count": 1,
   "id": "d0042f89",
   "metadata": {},
   "outputs": [],
   "source": [
    "import numpy as np\n",
    "import pandas as pd\n",
    "\n",
    "stocks = pd.read_csv(\"stocks.csv\")\n",
    "ret = stocks[\"Mkt-RF\"].values"
   ]
  },
  {
   "cell_type": "markdown",
   "id": "b77ca31a",
   "metadata": {},
   "source": [
    "A _density histogram_ is a histogram that is normalized so that the total area under the bars sums to unity. Argue that the stock return is not normally distributed as follows: \n",
    "\n",
    "1. Plot a density histogram of the returns $\\texttt{ret}$ with 100 bins. [2 pts]\n",
    "2. Over this histogram, plot the PDF of a normal distribution with mean equal to the sample mean of the returns and standard deviation equal to the sample standard deviation of the returns. [2 pts]"
   ]
  },
  {
   "cell_type": "code",
   "execution_count": null,
   "id": "a683981c",
   "metadata": {},
   "outputs": [],
   "source": []
  },
  {
   "cell_type": "markdown",
   "id": "f96fb342",
   "metadata": {},
   "source": [
    "3. Explain why stock returns are not normally distributed. [2 pts]"
   ]
  },
  {
   "cell_type": "markdown",
   "id": "a6bbf4e8",
   "metadata": {},
   "source": []
  }
 ],
 "metadata": {
  "kernelspec": {
   "display_name": "Python 3 (ipykernel)",
   "language": "python",
   "name": "python3"
  },
  "language_info": {
   "codemirror_mode": {
    "name": "ipython",
    "version": 3
   },
   "file_extension": ".py",
   "mimetype": "text/x-python",
   "name": "python",
   "nbconvert_exporter": "python",
   "pygments_lexer": "ipython3",
   "version": "3.9.12"
  }
 },
 "nbformat": 4,
 "nbformat_minor": 5
}
