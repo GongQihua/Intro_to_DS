{
 "cells": [
  {
   "cell_type": "markdown",
   "metadata": {
    "slideshow": {
     "slide_type": "slide"
    }
   },
   "source": [
    "<hr/>\n",
    "\n",
    "# Introduction to Data Science\n",
    "**Tamás Budavári** - budavari@jhu.edu <br/>\n",
    "\n",
    "- Introduction to spectral embedding and spectral clustering\n",
    "\n",
    "<hr/>"
   ]
  },
  {
   "cell_type": "markdown",
   "metadata": {
    "slideshow": {
     "slide_type": "slide"
    }
   },
   "source": [
    "<h1><font color=\"darkblue\">Spectral Methods</font></h1>"
   ]
  },
  {
   "cell_type": "markdown",
   "metadata": {},
   "source": [
    "## Statistical Learning\n",
    "\n",
    "- The methods in general fall in these 4 categories\n",
    "\n",
    ">|                | Supervised     |         Unsupervised     |\n",
    " |:---------------|:--------------:|:------------------------:|\n",
    " | **Discrete**   | Classification | Clustering               |   \n",
    " | **Continuous** | Regression     | Dimensionality Reduction |\n",
    "\n",
    "- Spectral clustering and embedding: unsupervised methods"
   ]
  },
  {
   "cell_type": "markdown",
   "metadata": {
    "slideshow": {
     "slide_type": "slide"
    }
   },
   "source": [
    "\n",
    "## Graph\n",
    "\n",
    "<img src=https://momath.org/wp-content/uploads/2013/10/graph_theory-300x292.jpeg width=200px align=right>\n",
    "\n",
    "- Represent connections between objects\n",
    "\n",
    "> **Vertex**: a node of the graph <br>\n",
    "> **Edge**: a link between two nodes \n",
    "\n",
    "- A graph consists of a set of vertices and a set of edges\n",
    "\n",
    ">$ G\\,(V,E) $\n",
    "\n"
   ]
  },
  {
   "cell_type": "markdown",
   "metadata": {
    "slideshow": {
     "slide_type": "slide"
    }
   },
   "source": [
    "## Similarity Graph\n",
    "\n",
    "- Connect similar objects in a dataset\n",
    "\n",
    "> Measure of similarity on the edges\n"
   ]
  },
  {
   "cell_type": "markdown",
   "metadata": {},
   "source": [
    "## Simple Implementation"
   ]
  },
  {
   "cell_type": "code",
   "execution_count": null,
   "metadata": {},
   "outputs": [],
   "source": [
    "class vert(object):\n",
    "    def __init__(self, data=None):\n",
    "        self.data = data\n",
    "\n",
    "class edge(object):\n",
    "    def __init__(self, A, B, w=1):\n",
    "        self.A, self.B = A, B\n",
    "        self.w = w"
   ]
  },
  {
   "cell_type": "code",
   "execution_count": null,
   "metadata": {
    "slideshow": {
     "slide_type": "slide"
    }
   },
   "outputs": [],
   "source": [
    "V = [ vert('zero'), vert('one'), vert('two'), \n",
    "      vert('three'), vert('four') ] \n",
    "\n",
    "E = [ edge(V[0],V[1]), edge(V[0],V[2]), edge(V[0],V[3]), \n",
    "      edge(V[1],V[3]),\n",
    "      edge(V[2],V[3]), edge(V[2],V[4]), \n",
    "      edge(V[3],V[4]) ]\n",
    "\n",
    "for edge in E: \n",
    "    print (edge.A.data, '\\t--<%.1f>--\\t' % edge.w, edge.B.data)"
   ]
  },
  {
   "cell_type": "markdown",
   "metadata": {
    "slideshow": {
     "slide_type": "slide"
    }
   },
   "source": [
    "## Adjacency Matrix\n",
    "\n",
    "- Are two vertices connected?\n",
    "\n",
    "> Encode it in an $(n\\!\\times\\!n)$ **matrix** $A$\n",
    "\n",
    "- The matrix elements\n",
    "\n",
    ">$ a_{ij} = \\left\\{ \\begin{array}{ll}\n",
    "         1 & \\mbox{if $i$ and $j$ are connected}\\\\\n",
    "         0 & \\mbox{otherwise}\\end{array} \\right.  $\n",
    "         \n",
    "- Symmetric matrix\n",
    "         "
   ]
  },
  {
   "cell_type": "markdown",
   "metadata": {
    "slideshow": {
     "slide_type": "slide"
    }
   },
   "source": [
    "### For example\n",
    "\n",
    "- The previous case becomes \n",
    "\n",
    ">$ A = \\left( \\begin{array}{ccc}\n",
    "0 & 1 & 1 & 1 & 0  \\\\\n",
    "1 & 0 & 0 & 1 & 0  \\\\\n",
    "1 & 0 & 0 & 1 & 1  \\\\\n",
    "1 & 1 & 1 & 0 & 1  \\\\\n",
    "0 & 0 & 1 & 1 & 0  \\\\\n",
    "\\end{array} \\right)$"
   ]
  },
  {
   "cell_type": "markdown",
   "metadata": {
    "slideshow": {
     "slide_type": "slide"
    }
   },
   "source": [
    "## Spectral Clustering\n",
    "\n",
    "- How to cut the graph into pieces with minimal \"damage\"\n",
    "\n",
    "<img src=https://upload.wikimedia.org/wikipedia/commons/thumb/c/c0/Min_cut_example.svg/330px-Min_cut_example.svg.png align=left width=220>\n",
    "\n"
   ]
  },
  {
   "cell_type": "markdown",
   "metadata": {
    "slideshow": {
     "slide_type": "slide"
    }
   },
   "source": [
    "## Graph Laplacian\n",
    "\n",
    "- Degree matrix $D$ is diagonal matrix formed from the sum of all edges\n",
    "\n",
    ">$\\displaystyle d_{ii} = \\sum_j^n a_{ij} $\n",
    "\n",
    "- The graph Laplacian\n",
    "\n",
    ">$ L = D - A$\n",
    "\n",
    "- What's so special abou this?!"
   ]
  },
  {
   "cell_type": "markdown",
   "metadata": {
    "slideshow": {
     "slide_type": "slide"
    }
   },
   "source": [
    "## An Interesting Property\n",
    "\n",
    "- For any $x \\in \\mathbb{R}^n$, the bilinear expression $x^T L\\,x $ has a familiar formula\n",
    "\n",
    ">$\\displaystyle x^T L\\,x = \\sum_{i}^n d_{ii} x_i^2 - \\sum_{i,j}^n  a_{ij}\\,x_i x_j $\n",
    "> <br><br>\n",
    ">$\\displaystyle \\hspace{0.5in} = \\frac{1}{2} \\left\\{ \\sum_{i}^n d_{ii} x_i^2 - 2\\sum_{i,j}^n  a_{ij}\\,x_i x_j  + \\sum_{j}^n d_{jj} x_j^2 \\right\\}$\n",
    "> <br><br>\n",
    ">$\\displaystyle  \\hspace{0.5in} = \\frac{1}{2} \\left\\{ \\sum_{i,j}^n a_{ij} x_i^2 - 2\\sum_{i,j}^n  a_{ij}\\,x_i x_j  + \\sum_{i,j}^n a_{ij} x_j^2 \\right\\}$\n",
    "> <br><br>\n",
    ">$\\displaystyle  \\hspace{0.5in} = \\frac{1}{2}\\sum_{i,j}^n a_{ij}\\,(x_i\\!-\\!x_j)^2 $\n",
    "\n",
    "\n",
    "- Which is\n",
    "\n",
    "\n",
    ">$\\displaystyle x^T L\\,x = \\frac{1}{2}\\sum_{i,j}^n a_{ij}\\,(x_i\\!-\\!x_j)^2 = $ $\\displaystyle \\frac{1}{2}\\sum_{(i,j)\\in{}E} (x_i\\!-\\!x_j)^2$"
   ]
  },
  {
   "cell_type": "markdown",
   "metadata": {
    "slideshow": {
     "slide_type": "slide"
    }
   },
   "source": [
    "## Minimization\n",
    "\n",
    "- Solution: the smallest eigenvalues of $L$ and corresponding eigenvectors\n",
    "\n",
    "> The 1st eigenvector is the trivial solution <br>\n",
    "> We use the 2nd eigenvector, and so on...\n",
    "\n",
    "- Laplacian eigenmaps\n",
    "\n",
    "> Different similarity matrices to start with<br>\n",
    "> Different normalizations\n"
   ]
  },
  {
   "cell_type": "markdown",
   "metadata": {
    "slideshow": {
     "slide_type": "slide"
    }
   },
   "source": [
    "## Weighted Edges\n",
    "\n",
    "- Instead of $A$ we can use a weight matrix $W$\n",
    "\n",
    ">$ L = D - W$ \n",
    "> <br><br>\n",
    "> where $D$ has diagonal elements\n",
    "> <br><br>\n",
    ">$\\displaystyle d_{ii} = \\sum_j w_{ij}$\n",
    "\n",
    "- And the result is again \n",
    "\n",
    ">$\\displaystyle x^T L\\,x = \\frac{1}{2}\\sum_{i,j}^n w_{ij}\\,(x_i\\!-\\!x_j)^2 = $ $\\displaystyle \\frac{1}{2}\\sum_{(i,j)\\in{}E} w_{ij}\\,(x_i\\!-\\!x_j)^2$"
   ]
  },
  {
   "cell_type": "markdown",
   "metadata": {
    "slideshow": {
     "slide_type": "slide"
    }
   },
   "source": [
    "## Variants\n",
    "\n",
    "- Simple Laplacian\n",
    " \n",
    ">$ L = D-W$\n",
    " \n",
    "- Normalized Laplacian\n",
    " \n",
    ">$ L_N = D^{-1/2}\\,L\\,D^{-1/2} = I -  D^{-1/2}\\,W\\,D^{-1/2}$\n",
    " \n",
    "- Relaxed Laplacian\n",
    " \n",
    ">$ L_{\\rho} = L - \\rho D$\n",
    " \n",
    "- Beltrami, etc..."
   ]
  },
  {
   "cell_type": "markdown",
   "metadata": {
    "slideshow": {
     "slide_type": "slide"
    }
   },
   "source": [
    "## Demo from Scratch\n",
    "\n",
    "1. Simulated dataset with blobs in 2-D\n",
    "1. Build the adjacency matrix based on a distance threshold: $d_{ij}=\\sqrt{(x_i\\!-\\!x_j)^2 + (y_i\\!-\\!y_j)^2} < d_T$\n",
    "1. Calculate the $D$ degree matrix\n",
    "1. Calculate the $L$ graph Laplacian\n",
    "1. Solve the eigenproblem of $L$\n",
    "1. Study the eigenvalues and eigenvectors"
   ]
  },
  {
   "cell_type": "code",
   "execution_count": null,
   "metadata": {
    "slideshow": {
     "slide_type": "subslide"
    }
   },
   "outputs": [],
   "source": [
    "%matplotlib inline\n",
    "import numpy as np\n",
    "import matplotlib.pyplot as plt"
   ]
  },
  {
   "cell_type": "code",
   "execution_count": null,
   "metadata": {},
   "outputs": [],
   "source": [
    "from sklearn import datasets\n",
    "np.random.seed(3)\n",
    "\n",
    "X,_ = datasets.make_blobs(n_samples=1000, centers=2, cluster_std=1.1)\n",
    "\n",
    "plt.figure(); plt.subplot(111,aspect='equal'); \n",
    "plt.scatter(X[:,0], X[:,1], alpha=0.2, edgecolor='none');"
   ]
  },
  {
   "cell_type": "code",
   "execution_count": null,
   "metadata": {},
   "outputs": [],
   "source": [
    "X.shape"
   ]
  },
  {
   "cell_type": "code",
   "execution_count": null,
   "metadata": {},
   "outputs": [],
   "source": [
    "# Reshape data for broadcasting\n",
    "m1 = X[np.newaxis, :, :]\n",
    "m2 = X[:, np.newaxis, :]\n",
    "print (X.shape)\n",
    "print (m1.shape)\n",
    "print (m2.shape)"
   ]
  },
  {
   "cell_type": "code",
   "execution_count": null,
   "metadata": {},
   "outputs": [],
   "source": [
    "# Pairwise distances\n",
    "r = m1 - m2\n",
    "print (r.shape)\n",
    "r *= r \n",
    "d2 = r.sum(axis=2)\n",
    "print (d2.shape)"
   ]
  },
  {
   "cell_type": "code",
   "execution_count": null,
   "metadata": {},
   "outputs": [],
   "source": [
    "# adjacency matrix\n",
    "A = (d2<9)\n",
    "np.fill_diagonal(A,False)\n",
    "A = A.astype(np.float32)\n",
    "print ('Symmetric?', np.allclose(A,A.T) )\n",
    "plt.figure(figsize=(10,10))\n",
    "plt.spy(A);"
   ]
  },
  {
   "cell_type": "code",
   "execution_count": null,
   "metadata": {},
   "outputs": [],
   "source": [
    "dd = A.sum(axis=0)\n",
    "D = np.diag(dd)\n",
    "\n",
    "L = D - A\n",
    "\n",
    "w, v = np.linalg.eigh(L)\n",
    "\n",
    "print (w[0], w[1], w.shape, v.shape)\n",
    "plt.plot(w,'g');"
   ]
  },
  {
   "cell_type": "code",
   "execution_count": null,
   "metadata": {},
   "outputs": [],
   "source": [
    "plt.plot(v[:,1], 'or', alpha=0.2);"
   ]
  },
  {
   "cell_type": "code",
   "execution_count": null,
   "metadata": {},
   "outputs": [],
   "source": [
    "s = np.argsort(v[:,1])\n",
    "plt.plot(v[s,1], 'ro', alpha=0.2);"
   ]
  },
  {
   "cell_type": "code",
   "execution_count": null,
   "metadata": {},
   "outputs": [],
   "source": [
    "i,j = np.meshgrid(s,s)\n",
    "plt.figure(figsize=(10,10))\n",
    "plt.spy(A[i,j]);"
   ]
  },
  {
   "cell_type": "code",
   "execution_count": null,
   "metadata": {},
   "outputs": [],
   "source": [
    "labels = (v[:,1] < 0)\n",
    "plt.scatter(X[:,0], X[:,1], c=labels, cmap=plt.cm.BrBG, alpha=0.5, edgecolor='none'); \n",
    "plt.title('derived clusters');"
   ]
  },
  {
   "cell_type": "markdown",
   "metadata": {},
   "source": [
    "### Example in Matlab\n",
    "\n",
    "If interested, also check out the Matlab code and documentation at <br>\n",
    "https://www.cs.purdue.edu/homes/dgleich/demos/matlab/spectral/spectral.html"
   ]
  },
  {
   "cell_type": "markdown",
   "metadata": {},
   "source": [
    "### Exercise"
   ]
  },
  {
   "cell_type": "code",
   "execution_count": null,
   "metadata": {},
   "outputs": [],
   "source": [
    "X = np.loadtxt('files/Class-Blobs.csv', delimiter=',')\n",
    "X.shape"
   ]
  },
  {
   "cell_type": "code",
   "execution_count": null,
   "metadata": {},
   "outputs": [],
   "source": [
    "A = None # missing code\n",
    "plt.spy(A);"
   ]
  },
  {
   "cell_type": "code",
   "execution_count": null,
   "metadata": {},
   "outputs": [],
   "source": [
    "dd = A.sum(axis=0)\n",
    "D = np.diag(dd)\n",
    "L = D - A\n",
    "w, v = np.linalg.eigh(L)\n",
    "\n",
    "print (w[0], w[1], w.shape, v.shape)\n",
    "plt.plot(v[:,1], 'or', alpha=0.2);"
   ]
  },
  {
   "cell_type": "code",
   "execution_count": null,
   "metadata": {},
   "outputs": [],
   "source": [
    "s = np.argsort(v[:,1])\n",
    "plt.plot(v[s,1], 'ro', alpha=0.6);\n",
    "i,j = np.meshgrid(s,s)\n",
    "plt.figure(); \n",
    "plt.spy(A[i,j]);"
   ]
  },
  {
   "cell_type": "markdown",
   "metadata": {},
   "source": [
    "### Unhomework\n",
    "\n",
    "- Cluster the point set below using the spectral method"
   ]
  },
  {
   "cell_type": "code",
   "execution_count": null,
   "metadata": {},
   "outputs": [],
   "source": [
    "np.random.seed(45)\n",
    "X,_ = datasets.make_circles(n_samples=1000,factor=0.25, noise=.12)\n",
    "\n",
    "plt.subplot(111, aspect='equal'); \n",
    "plt.scatter(X[:,0],X[:,1], alpha=0.2, edgecolor='none');"
   ]
  },
  {
   "cell_type": "code",
   "execution_count": null,
   "metadata": {},
   "outputs": [],
   "source": []
  }
 ],
 "metadata": {
  "anaconda-cloud": {},
  "kernelspec": {
   "display_name": "Python 3 (ipykernel)",
   "language": "python",
   "name": "python3"
  },
  "language_info": {
   "codemirror_mode": {
    "name": "ipython",
    "version": 3
   },
   "file_extension": ".py",
   "mimetype": "text/x-python",
   "name": "python",
   "nbconvert_exporter": "python",
   "pygments_lexer": "ipython3",
   "version": "3.9.12"
  }
 },
 "nbformat": 4,
 "nbformat_minor": 1
}
